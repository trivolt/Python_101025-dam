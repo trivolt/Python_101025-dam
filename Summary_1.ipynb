{
 "cells": [
  {
   "cell_type": "markdown",
   "id": "77607b55-a33e-4c85-83c5-b5bc5939a8f5",
   "metadata": {},
   "source": [
    "# Summary 1"
   ]
  },
  {
   "cell_type": "code",
   "execution_count": null,
   "id": "d2f0d879-0918-4bed-94d5-d831fbae6476",
   "metadata": {},
   "outputs": [],
   "source": []
  },
  {
   "cell_type": "code",
   "execution_count": null,
   "id": "6e4425e2-315c-491c-bdcb-2be264777575",
   "metadata": {},
   "outputs": [],
   "source": []
  },
  {
   "cell_type": "markdown",
   "id": "37b810b1-de23-4271-9ead-06018806fae0",
   "metadata": {},
   "source": [
    "# ДЗ 1"
   ]
  },
  {
   "cell_type": "markdown",
   "id": "cc894954-a035-4274-b75b-1fd9049477da",
   "metadata": {},
   "source": [
    "1. **Приветственное сообщение**  \n",
    "Создайте программу, которая выведет строки \"Hi!\" и \"Hello!\" на разных строках.  \n",
    "Пример вывода:  \n",
    "Hi!  \n",
    "Hello!\n"
   ]
  },
  {
   "cell_type": "code",
   "execution_count": null,
   "id": "c3c51a83-52f2-4af2-913c-6e2d37305209",
   "metadata": {},
   "outputs": [],
   "source": []
  },
  {
   "cell_type": "markdown",
   "id": "705e5efe-7802-4a7e-9aec-c9899e9a558b",
   "metadata": {},
   "source": [
    "2. **Именное приветствие**  \n",
    "Создайте программу, которая попросит пользователя ввести его имя, а затем выведет фразу: \"Hello, <Name>\" на новой строке.  \n",
    "Пример вывода:  \n",
    "Hello, Name   \n"
   ]
  },
  {
   "cell_type": "code",
   "execution_count": null,
   "id": "c0af458e-b72a-42f6-b450-5e8a8d07b255",
   "metadata": {},
   "outputs": [],
   "source": []
  },
  {
   "cell_type": "markdown",
   "id": "a353c62b-7a40-436b-a1c1-1942772ef127",
   "metadata": {},
   "source": [
    "# ДЗ 2"
   ]
  },
  {
   "cell_type": "markdown",
   "id": "4c3726c3-7f0c-4226-aba0-9a4bee93d298",
   "metadata": {},
   "source": [
    "1. **Числовая цепочка**  \n",
    "Напишите программу, которая выводит числа от 1 до 5 включительно, разделяя их символами “---”. Используйте параметр sep.  \n",
    "Пример вывода:  \n",
    "1---2---3---4---5  \n"
   ]
  },
  {
   "cell_type": "code",
   "execution_count": null,
   "id": "c81c2a67-92e2-4a28-8324-dba5de21e4ff",
   "metadata": {},
   "outputs": [],
   "source": []
  },
  {
   "cell_type": "markdown",
   "id": "307580ee-06e6-49cc-bb48-aa4d3a3641c7",
   "metadata": {},
   "source": [
    "2. **Пробельные символы**  \n",
    "Напишите программу, которая выведет две строки: первая строка с табуляцией, вторая — на новой строке с помощью одного вызова print().   \n",
    "Пример вывода:  \n",
    "  Первая строка с табуляцией  \n",
    "Вторая строка на новой строке  \n"
   ]
  },
  {
   "cell_type": "code",
   "execution_count": null,
   "id": "7a4be765-48bb-41aa-8ecc-dbf605e4cc04",
   "metadata": {},
   "outputs": [],
   "source": []
  },
  {
   "cell_type": "markdown",
   "id": "f0b7cfb8-4d03-4fef-a517-d2b1d6d76e23",
   "metadata": {},
   "source": [
    "3. **Текст в кавычках**  \n",
    "Напишите программу, которая выводит строку \"Это файл \"example.txt\"\". Выполните задачу несколькими способами.  \n",
    "Пример вывода:  \n",
    "Это файл \"example.txt\"\n"
   ]
  },
  {
   "cell_type": "code",
   "execution_count": null,
   "id": "bec60def-09c5-4ae2-b8e9-6575346b4549",
   "metadata": {},
   "outputs": [],
   "source": []
  },
  {
   "cell_type": "markdown",
   "id": "7cc57dbc-36d4-4490-af1a-7aa62befa225",
   "metadata": {},
   "source": [
    "### Eще практики"
   ]
  },
  {
   "cell_type": "markdown",
   "id": "a0bcb652-547c-415b-bcd0-24d650cddd3a",
   "metadata": {},
   "source": [
    "1. \"Приветствие\" \n",
    "\n",
    "Попросите пользователя ввести свое имя. Затем выведите сообщение: \"Привет, [имя]! Добро пожаловать в мир Python!\".  \n",
    "Пример работы:\n",
    "\n",
    "Ввод: Анна\n",
    "\n",
    "Вывод: Привет, Анна! Добро пожаловать в мир Python!\n"
   ]
  },
  {
   "cell_type": "code",
   "execution_count": null,
   "id": "5f49714b-f78f-4c80-81b0-009b7f50ee23",
   "metadata": {},
   "outputs": [],
   "source": []
  },
  {
   "cell_type": "markdown",
   "id": "473e939b-cf54-4300-890e-d37cced5ca47",
   "metadata": {},
   "source": [
    "2. \"Информация о пользователе\"\n",
    "\n",
    "Спросите у пользователя его имя, город и возраст. Выведите все эти данные в одном предложении.\n",
    "\n",
    "Пример работы:\n",
    "\n",
    "Ввод: Иван, Берлин, 25\n",
    "\n",
    "Вывод: Вас зовут Иван, вы из города Берлина и вам 25 лет.\n",
    "\n"
   ]
  },
  {
   "cell_type": "code",
   "execution_count": null,
   "id": "5ea71cf9-f160-4f8b-bc6f-2d3d399c2c8a",
   "metadata": {},
   "outputs": [],
   "source": []
  },
  {
   "cell_type": "markdown",
   "id": "be32533d-da86-45f6-9c58-27982dd34fab",
   "metadata": {},
   "source": [
    "3. \"Многострочная биография\"\n",
    "\n",
    "Запросите у пользователя его имя, любимое хобби и мечту. Выведите каждую часть информации с новой строки, используя \\n.  \n",
    "\n",
    "Пример работы:\n",
    "\n",
    "Ввод: Алексей, программирование, стать космонавтом\n",
    "\n",
    "Вывод:\n",
    "```\n",
    "Имя: Алексей\n",
    "Хобби: программирование\n",
    "Мечта: стать космонавтом\n",
    "```"
   ]
  },
  {
   "cell_type": "code",
   "execution_count": null,
   "id": "2dcaab3c-a9de-4c6c-a8a3-b86cffa12d65",
   "metadata": {},
   "outputs": [],
   "source": []
  },
  {
   "cell_type": "markdown",
   "id": "bd4e30b4-2f30-4eea-b722-3b4877b6716d",
   "metadata": {},
   "source": [
    "4. \"Цитата дня\"\n",
    "\n",
    "Выведите красивую цитату (например, \"Чтобы дойти до цели, надо прежде всего идти.\" — Оноре де Бальзак). Цитата должна быть заключена в двойные кавычки, а автор — отделен табуляцией и начинаться с тире.\n",
    "\n",
    "Пример работы:\n",
    "\n",
    "Вывод:\n",
    "```\n",
    "\"Чтобы дойти до цели, надо прежде всего идти.\"\n",
    "\t— Оноре де Бальзак\n",
    "```\n",
    "\n",
    "*Подсказка: используйте \\\" для вывода двойных кавычек и \\t для табуляции.*"
   ]
  },
  {
   "cell_type": "code",
   "execution_count": null,
   "id": "0072e2a2-0516-40ef-9e97-a6e750dac4b3",
   "metadata": {},
   "outputs": [],
   "source": []
  },
  {
   "cell_type": "markdown",
   "id": "a125ffa6-e5e7-49fa-81a6-60b8a68b87fe",
   "metadata": {},
   "source": [
    "5. \"Путь к файлу\"\n",
    "\n",
    "\n",
    "Выведите на экран путь к файлу в формате Windows, например: C:\\new_folder\\data.txt. Ваша задача — сделать так, чтобы обратные слеши \\ отобразились корректно.\n",
    "\n",
    "Пример работы:\n",
    "\n",
    "Вывод: C:\\new_folder\\data.txt\n",
    "\n",
    "Подсказка: используйте `\\\\`"
   ]
  },
  {
   "cell_type": "code",
   "execution_count": null,
   "id": "7a31f9e3-5771-4865-8825-40b2e82f945c",
   "metadata": {},
   "outputs": [],
   "source": []
  },
  {
   "cell_type": "markdown",
   "id": "033e2d70-f15d-476e-804f-6785ea1c3e3a",
   "metadata": {},
   "source": [
    "6. \"Генератор поздравления\"\n",
    "\n",
    "Условие: Создайте программу, которая генерирует поздравительную открытку.\n",
    "\n",
    "Запросите у пользователя:\n",
    "\n",
    "Имя именинника\n",
    "\n",
    "Возраст\n",
    "\n",
    "Имя отправителя\n",
    "\n",
    "Выведите открытку, используя рамку из символов (например, * или =). Внутри рамки должен быть текст поздравления, который использует все введенные данные и переносы строк.\n",
    "\n",
    "Пример работы:\n",
    "\n",
    "Ввод: Мария, 30, Анна\n",
    "\n",
    "Вывод:\n",
    "\n",
    "```\n",
    "*********************\n",
    "* С Днем Рождения,  *\n",
    "* дорогая Мария!    *\n",
    "*                   *\n",
    "* Желаю счастья в   *\n",
    "* твои 30 лет!      *\n",
    "*                   *\n",
    "* Твоя Анна         *\n",
    "*********************   \n",
    "```"
   ]
  },
  {
   "cell_type": "code",
   "execution_count": null,
   "id": "96ec5eb7-4fad-42a8-a230-9b8de2b4e261",
   "metadata": {},
   "outputs": [],
   "source": []
  }
 ],
 "metadata": {
  "kernelspec": {
   "display_name": "Python 3 (ipykernel)",
   "language": "python",
   "name": "python3"
  },
  "language_info": {
   "codemirror_mode": {
    "name": "ipython",
    "version": 3
   },
   "file_extension": ".py",
   "mimetype": "text/x-python",
   "name": "python",
   "nbconvert_exporter": "python",
   "pygments_lexer": "ipython3",
   "version": "3.13.5"
  }
 },
 "nbformat": 4,
 "nbformat_minor": 5
}
