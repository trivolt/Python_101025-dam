{
 "cells": [
  {
   "cell_type": "markdown",
   "id": "60c6ab7e-cd4e-4eb1-b8d8-45e4ac7e35bd",
   "metadata": {},
   "source": [
    "# Базовые типы данных, работа с функциями"
   ]
  },
  {
   "cell_type": "markdown",
   "id": "27e84887-01f9-4f22-b5fa-d16b17bcd46b",
   "metadata": {},
   "source": [
    "### Объекты и типы данных\n",
    "Объект в Python — это любое значение, с которым можно работать в программе. Всё в Python — это объект: числа, строки, списки и т.д. Каждый объект хранит данные и имеет определённый тип.   \n",
    "Тип данных определяет, какие значения может хранить объект и какие операции можно выполнять с этими значениями.\n"
   ]
  },
  {
   "cell_type": "markdown",
   "id": "72148f2c-3f04-415d-aa9d-a07df85038e5",
   "metadata": {},
   "source": [
    "### Динамическая типизация\n",
    "Python является динамически типизированным языком, что означает, что тип переменной определяется автоматически в момент присваивания значения, и он может меняться в процессе выполнения программы.\n",
    "\n",
    "Тип данных присваивается не переменной, а объекту, на который она ссылается. Это позволяет одной и той же переменной в ходе программы ссылаться на объекты разных типов данных.\n"
   ]
  },
  {
   "cell_type": "code",
   "execution_count": 1,
   "id": "75fe94aa-ce0e-462a-a38f-2b955bc1a8c8",
   "metadata": {},
   "outputs": [],
   "source": [
    "price = 10 # Тип автоматически определен как целое число"
   ]
  },
  {
   "cell_type": "code",
   "execution_count": 2,
   "id": "88a7f9c0-58aa-4409-9dce-063d17e1b1b8",
   "metadata": {},
   "outputs": [],
   "source": [
    "product = \"smartphone\" # Тип автоматически переопределен как строка"
   ]
  },
  {
   "cell_type": "markdown",
   "id": "4c3313f4-c066-4c78-8014-b04af0ff82cc",
   "metadata": {},
   "source": [
    "## Примитивные типы данных\n",
    "Примитивные типы данных в Python — это основные типы, которые используются для хранения простых (единичных) значений. В Python примитивные типы данных включают:\n"
   ]
  },
  {
   "cell_type": "markdown",
   "id": "1fa7576c-208e-4d3d-bd53-296a62d601f4",
   "metadata": {},
   "source": [
    "### Целые числа (int)\n",
    "Целые числа представляют собой значения без дробной части. Они могут быть положительными, отрицательными или равны нулю.\n"
   ]
  },
  {
   "cell_type": "code",
   "execution_count": 3,
   "id": "38e8c0de-a270-44c3-9008-56214e1b1f99",
   "metadata": {},
   "outputs": [],
   "source": [
    "x = 5        # Положительное целое число\n",
    "y = -3       # Отрицательное целое число\n",
    "z = 0        # Ноль"
   ]
  },
  {
   "cell_type": "markdown",
   "id": "ee17931e-5407-407c-95cc-bcde98a4cc72",
   "metadata": {},
   "source": [
    "### Числа с плавающей запятой (float)\n",
    "Числа с плавающей запятой представляют собой значения с дробной частью.\n"
   ]
  },
  {
   "cell_type": "code",
   "execution_count": 4,
   "id": "91c9856d-05ec-48c5-b88a-ce17c41d9c33",
   "metadata": {},
   "outputs": [],
   "source": [
    "pi = 3.14              # Число с плавающей запятой\n",
    "temperature = -5.2     # Отрицательное число с плавающей запятой"
   ]
  },
  {
   "cell_type": "markdown",
   "id": "1aefe73a-e6b8-403f-a50c-d8ab04f0415f",
   "metadata": {},
   "source": [
    "### Строки (str)\n",
    "Строки представляют собой упорядоченные последовательности символов, заключённых в одинарные или двойные кавычки, а также в тройные кавычки (как одинарные, так и двойные). Тройные кавычки позволяют создавать многострочные строки, сохраняющие исходное форматирование, включая переносы строк.\n"
   ]
  },
  {
   "cell_type": "code",
   "execution_count": 5,
   "id": "a1e4593d-e56d-4965-854a-862ebb84bce0",
   "metadata": {},
   "outputs": [],
   "source": [
    "# Одинарные кавычки\n",
    "single_quote_string = 'Это строка в одинарных кавычках.'\n",
    "\n",
    "\n",
    "# Двойные кавычки\n",
    "double_quote_string = \"Это строка в двойных кавычках.\"\n",
    "\n",
    "\n",
    "# Одинарные тройные кавычки (многострочная строка)\n",
    "triple_quote_string = '''Это строка в\n",
    "тройных кавычках, которая\n",
    "может занимать несколько строк.'''\n",
    "\n",
    "\n",
    "# Альтернативный вариант с двойными тройными кавычками\n",
    "another_triple_quote_string = \"\"\"Это ещё одна\n",
    "многострочная строка, но с использованием\n",
    "двойных тройных кавычек.\"\"\"\n"
   ]
  },
  {
   "cell_type": "markdown",
   "id": "c0e59d39-db09-4e1d-b7af-8a4588050835",
   "metadata": {},
   "source": [
    "### Логические значения (bool)\n",
    "Логические значения представляют два возможных состояния: True (истина) и False (ложь). Они записываются текстом с большой буквы без кавычек.\n"
   ]
  },
  {
   "cell_type": "code",
   "execution_count": 6,
   "id": "e58e1a97-2639-49ed-be05-8e89f5b535bb",
   "metadata": {},
   "outputs": [],
   "source": [
    "is_student = True          # Логическое значение True\n",
    "has_passed = False         # Логическое значение False"
   ]
  },
  {
   "cell_type": "markdown",
   "id": "5d30fdfc-619c-4db6-b81b-8a319b846a2a",
   "metadata": {},
   "source": [
    "### Отсутствие значения (NoneType)\n",
    "Тип NoneType представляет отсутствие значения. Единственное значение для этого типа: None\n"
   ]
  },
  {
   "cell_type": "code",
   "execution_count": 7,
   "id": "c7b51787-39f9-4c33-b7b8-5339ce5d19ea",
   "metadata": {},
   "outputs": [],
   "source": [
    "value = None               # Переменная, не содержит никакого значения"
   ]
  },
  {
   "cell_type": "markdown",
   "id": "0e85585a-38cc-4218-ace2-54f4bf3dd95b",
   "metadata": {},
   "source": [
    "Значение None часто используется для инициализации переменных, когда значение ещё не известно, или для обозначения того, что функция ничего не возвращает.\n",
    "Эти примитивные типы данных позволяют эффективно хранить и обрабатывать информацию в программах на Python. Они не могут быть разбиты на более мелкие части.\n"
   ]
  },
  {
   "cell_type": "code",
   "execution_count": 8,
   "id": "205d1112-8085-4933-af1f-eb6b5246a10d",
   "metadata": {},
   "outputs": [],
   "source": [
    "#Задания для закрепления\n"
   ]
  },
  {
   "cell_type": "markdown",
   "id": "468a67a3-7146-4300-8536-0714a2a04005",
   "metadata": {},
   "source": [
    "### Возвращаемое значение\n",
    "Возвращаемое значение — это результат, который функция передаёт обратно в место своего вызова. Функции могут возвращать значение, или ничего не возвращать, в последнем случае по умолчанию будет возвращено None. Результат, который вернула функция, можно присвоить некоторой переменной.\n"
   ]
  },
  {
   "cell_type": "code",
   "execution_count": 9,
   "id": "118edce9-72be-4443-859d-b8e5545031e4",
   "metadata": {},
   "outputs": [
    {
     "name": "stdout",
     "output_type": "stream",
     "text": [
      "Привет мир!\n"
     ]
    },
    {
     "name": "stdin",
     "output_type": "stream",
     "text": [
      " 4\n"
     ]
    }
   ],
   "source": [
    "y = print('Привет мир!')\n",
    "x = input()"
   ]
  },
  {
   "cell_type": "code",
   "execution_count": 10,
   "id": "4e24fcb1-3973-44bc-a26e-18f9a3040d06",
   "metadata": {},
   "outputs": [
    {
     "data": {
      "text/plain": [
       "('4', None)"
      ]
     },
     "execution_count": 10,
     "metadata": {},
     "output_type": "execute_result"
    }
   ],
   "source": [
    "x,y"
   ]
  },
  {
   "cell_type": "markdown",
   "id": "eea5278c-3be2-493a-918e-e5f2efcef7ec",
   "metadata": {},
   "source": [
    "### Процедуры в Python\n",
    "В Python нет отдельного понятия \"процедура\", как в некоторых других языках программирования. Однако термин процедура часто используется для описания функций, которые ничего не возвращают (или возвращают None) и выполняют определённые действия, такие как вывод на экран или модификация данных.\n"
   ]
  },
  {
   "cell_type": "code",
   "execution_count": 11,
   "id": "57c29457-9876-47cf-a89d-8d3d91406929",
   "metadata": {},
   "outputs": [
    {
     "name": "stdout",
     "output_type": "stream",
     "text": [
      "Привет, мир!\n"
     ]
    }
   ],
   "source": [
    "print(\"Привет, мир!\")  # Выводим сообщение, но print не возвращает результат"
   ]
  },
  {
   "cell_type": "markdown",
   "id": "2e4aebe3-16cd-4fef-af36-03ca2d3d20c8",
   "metadata": {},
   "source": [
    "### Передача аргументов в функцию\n",
    "В функцию можно передавать аргументы разными способами:\n",
    "1. Значения (литералы), например, числа или строки:\n"
   ]
  },
  {
   "cell_type": "code",
   "execution_count": 12,
   "id": "0e7bc55e-2f21-459c-b2d8-067497c0ace0",
   "metadata": {},
   "outputs": [
    {
     "name": "stdout",
     "output_type": "stream",
     "text": [
      "5\n",
      "Привет, мир!\n"
     ]
    }
   ],
   "source": [
    "print(5)\n",
    "print(\"Привет, мир!\")"
   ]
  },
  {
   "cell_type": "markdown",
   "id": "bb97a8e9-4797-4350-8a3a-1b53f44a8a07",
   "metadata": {},
   "source": [
    "2. Переменные, из которых будут получены значения:"
   ]
  },
  {
   "cell_type": "code",
   "execution_count": 13,
   "id": "bf819ea0-b780-4fdd-afd5-75593485fa3c",
   "metadata": {},
   "outputs": [
    {
     "name": "stdout",
     "output_type": "stream",
     "text": [
      "Привет, мир!\n"
     ]
    }
   ],
   "source": [
    "text = \"Привет, мир!\"\n",
    "print(text)\n"
   ]
  },
  {
   "cell_type": "markdown",
   "id": "255d68f9-ff2f-4627-902d-0effc4e2218d",
   "metadata": {},
   "source": [
    "3. Результат выполнения математических операций:"
   ]
  },
  {
   "cell_type": "code",
   "execution_count": 14,
   "id": "165aa430-5831-4045-9c95-b068ff2fd6d5",
   "metadata": {},
   "outputs": [
    {
     "name": "stdout",
     "output_type": "stream",
     "text": [
      "7\n"
     ]
    }
   ],
   "source": [
    "print(2 + 5)"
   ]
  },
  {
   "cell_type": "markdown",
   "id": "34214122-6cbe-41cd-8709-4c192d0e19b5",
   "metadata": {},
   "source": [
    "4. Результаты выполнения других функций"
   ]
  },
  {
   "cell_type": "code",
   "execution_count": 16,
   "id": "cc3a00d2-84be-4ecf-b00c-de629b312b99",
   "metadata": {},
   "outputs": [
    {
     "name": "stdin",
     "output_type": "stream",
     "text": [
      "Введите имя:  6\n"
     ]
    },
    {
     "name": "stdout",
     "output_type": "stream",
     "text": [
      "6\n"
     ]
    }
   ],
   "source": [
    "print(input(\"Введите имя: \"))"
   ]
  },
  {
   "cell_type": "markdown",
   "id": "e5ae3984-8a72-44f4-8bef-9b61970c2fd6",
   "metadata": {},
   "source": [
    "Т.к. input возвращает то, что ввел пользователь, то это значение можно передать в функцию print."
   ]
  },
  {
   "cell_type": "markdown",
   "id": "63d99574-5fe8-40e4-a912-739cc440ba5f",
   "metadata": {},
   "source": [
    "### Функция type\n",
    "Функция type используется для определения типа объекта. Она возвращает класс типа объекта. Она возвращает тип данных (класс), который находится в переменной в момент выполнения функции type. Чтобы увидеть результат вызова функции type, необходимо передать его как аргумент в функцию print:\n"
   ]
  },
  {
   "cell_type": "code",
   "execution_count": 17,
   "id": "3548d7fa-60b6-4ebc-ad38-af47e64f1d84",
   "metadata": {},
   "outputs": [
    {
     "name": "stdout",
     "output_type": "stream",
     "text": [
      "<class 'int'>\n",
      "<class 'str'>\n"
     ]
    }
   ],
   "source": [
    "x = 10\n",
    "print(type(x))  # <class 'int'>\n",
    "x = \"Привет\"\n",
    "print(type(x))  # <class 'str'>\n"
   ]
  },
  {
   "cell_type": "code",
   "execution_count": 18,
   "id": "7902cc6e-5bfe-41df-8055-9aaf286bdcb1",
   "metadata": {},
   "outputs": [],
   "source": [
    "#Задания для закрепления\n"
   ]
  },
  {
   "cell_type": "markdown",
   "id": "3e65b401-2a68-4bab-9c03-2e86e81785fa",
   "metadata": {},
   "source": [
    "## Строковые операции\n",
    "### 1. Конкатенация\n",
    "Конкатенация — это процесс объединения двух или более строк в одну строку. Для этого используется оператор +. Это позволяет создавать новые строки путём добавления одной строки к другой. Это может быть полезно для комбинирования данных или формирования строки для вывода из нескольких элементов.\n"
   ]
  },
  {
   "cell_type": "code",
   "execution_count": 19,
   "id": "88de9f39-af8f-4067-b476-04e70813c422",
   "metadata": {},
   "outputs": [
    {
     "name": "stdout",
     "output_type": "stream",
     "text": [
      "Привет мир\n"
     ]
    }
   ],
   "source": [
    "str1 = \"Привет\"\n",
    "str2 = \"мир\"\n",
    "result = str1 + \" \" + str2  # Объединение строк с пробелом между ними\n",
    "print(result)  # Вывод: Привет мир"
   ]
  },
  {
   "cell_type": "markdown",
   "id": "d93e3625-9947-4104-8f47-223f72633d68",
   "metadata": {},
   "source": [
    "### 2. Умножение строк\n",
    "Умножение строк позволяет создать новую строку, состоящую из повторений исходной строки. Это делается с использованием оператора *, за которым следует число, указывающее, сколько раз строка должна быть повторена. Умножение может быть полезно для создания разделителей, повторяющихся шаблонов текста и других целей.\n"
   ]
  },
  {
   "cell_type": "code",
   "execution_count": 20,
   "id": "f844f830-0557-4df7-9e33-d62ddd2f6c5b",
   "metadata": {},
   "outputs": [
    {
     "name": "stdout",
     "output_type": "stream",
     "text": [
      "Hi! Hi! Hi! \n"
     ]
    }
   ],
   "source": [
    "str1 = \"Hi! \"\n",
    "result = str1 * 3  # Создание строки из трёх повторений исходной строки\n",
    "print(result)  # Вывод: Hi! Hi! Hi! "
   ]
  },
  {
   "cell_type": "markdown",
   "id": "06373867-3a2c-4b0f-8f4d-0f43c547ab48",
   "metadata": {},
   "source": [
    "Обратите внимание, что при использовании этих операций изначальные строки не изменяются.\n"
   ]
  },
  {
   "cell_type": "markdown",
   "id": "7be75d19-09dd-4776-ad1c-3b4642133440",
   "metadata": {},
   "source": [
    "## Работа с кавычками в строках\n",
    "В Python строки можно заключать в одинарные (') или двойные кавычки (\"), что позволяет гибко работать с текстом. Эти два варианта используются взаимозаменяемо, но есть особенности, когда лучше использовать определенные кавычки.\n"
   ]
  },
  {
   "cell_type": "markdown",
   "id": "8e659737-c596-4f67-98a0-8d625cf15dab",
   "metadata": {},
   "source": [
    "### Когда использовать одинарные и двойные кавычки?\n",
    "Если внутри строки необходимо использовать кавычки, то целесообразно выбирать противоположные по типу кавычки для обрамления строки.\n"
   ]
  },
  {
   "cell_type": "code",
   "execution_count": 22,
   "id": "5b5ba58a-e157-4780-a4e6-550494e32b09",
   "metadata": {},
   "outputs": [],
   "source": [
    "# Одинарные кавычки внутри строки\n",
    "quote1 = \"Она сказала: 'Привет!'\"\n",
    "\n",
    "\n",
    "# Двойные кавычки внутри строки\n",
    "quote2 = 'Он ответил: \"Привет!\"'"
   ]
  },
  {
   "cell_type": "markdown",
   "id": "e1e03cca-bf62-43bc-87fd-75d73ee44527",
   "metadata": {},
   "source": [
    "### Многострочные строки\n",
    "Для многострочных строк и строк, содержащих как одинарные, так и двойные кавычки, удобно использовать тройные кавычки (''' или \"\"\"). В данном случае внутри строки можно использовать как одинарные, так и двойные кавычки.\n"
   ]
  },
  {
   "cell_type": "code",
   "execution_count": 25,
   "id": "1a7c6576-62c5-4f95-96a3-0051c2926b79",
   "metadata": {},
   "outputs": [],
   "source": [
    "multi_line_string = \"\"\"Это многострочная строка, в которой есть 'одинарные' и \"двойные\" кавычки.\"\"\""
   ]
  },
  {
   "cell_type": "markdown",
   "id": "f8f56f13-d759-40ea-ab1e-64bb671191fc",
   "metadata": {},
   "source": [
    "## Экранирование символов\n",
    "Экранирование — это способ обработки специальных символов внутри строк.\n",
    "\n",
    "В Python используется обратный слэш (\\) для обозначения специальных символов и создания escape-последовательностей. Эти последовательности представляют собой комбинации символов для корректного отображения таких символов, как кавычки, обратный слэш, перенос строки или табуляцию, позволяя включать их в строку без конфликтов с синтаксическими правилами.\n"
   ]
  },
  {
   "cell_type": "markdown",
   "id": "d8ce0397-5650-44fb-bec4-3916637ac359",
   "metadata": {},
   "source": [
    "### Экранирование кавычек\n",
    "Если строка обрамлена в одинарные кавычки, а внутри нужно использовать одинарную кавычку, её нужно экранировать. То же правило действует и для двойных кавычек.\n"
   ]
  },
  {
   "cell_type": "code",
   "execution_count": 26,
   "id": "23fd97bd-fee7-4f78-bef5-23358b1974b7",
   "metadata": {},
   "outputs": [
    {
     "name": "stdout",
     "output_type": "stream",
     "text": [
      "В строке есть 'одинарные' и \"двойные\" кавычки.\n",
      "В строке есть 'одинарные' и \"двойные\" кавычки.\n"
     ]
    }
   ],
   "source": [
    "# Одинарные кавычки внутри строки\n",
    "string1 = 'В строке есть \\'одинарные\\' и \"двойные\" кавычки.'\n",
    "print(string1)\n",
    "\n",
    "\n",
    "# Двойные кавычки внутри строки\n",
    "string2 = \"В строке есть 'одинарные' и \\\"двойные\\\" кавычки.\"\n",
    "print(string2)\n"
   ]
  },
  {
   "cell_type": "markdown",
   "id": "6a67df32-f29f-4a30-80e4-461cc8141184",
   "metadata": {},
   "source": [
    "### Специальные символы\n",
    "Экранирование также используется для вставки специальных символов, таких как:\n",
    "* \\n — новая строка\n",
    "* \\t — табуляция\n"
   ]
  },
  {
   "cell_type": "code",
   "execution_count": 27,
   "id": "4f9577fc-7c83-4491-a9ae-72e682ad6129",
   "metadata": {},
   "outputs": [
    {
     "name": "stdout",
     "output_type": "stream",
     "text": [
      "Первая строка\n",
      "Вторая строка\n",
      "Первая строка\tВторая строка\n"
     ]
    }
   ],
   "source": [
    "# Новая строка\n",
    "text = \"Первая строка\\nВторая строка\"\n",
    "print(text)\n",
    "# Табуляция\n",
    "text_with_tab = \"Первая строка\\tВторая строка\"\n",
    "print(text_with_tab)\n"
   ]
  },
  {
   "cell_type": "markdown",
   "id": "361247e3-cba0-4d43-ac16-c86854ef10bd",
   "metadata": {},
   "source": [
    "### Экранирование обратного слэша\n",
    "Если в строке необходимо вставить обратный слэш, его тоже нужно экранировать, так как сам обратный слэш является специальным символом.\n"
   ]
  },
  {
   "cell_type": "code",
   "execution_count": 28,
   "id": "b1169fa1-72d2-48c2-ae66-f34550240998",
   "metadata": {},
   "outputs": [],
   "source": [
    "path = \"C:\\\\Users\\\\Username\\\\Documents\""
   ]
  },
  {
   "cell_type": "markdown",
   "id": "8766d74e-41c0-409c-9258-02d9f6be5e8a",
   "metadata": {},
   "source": [
    "### Параметры sep и end\n",
    "Мы уже видели, что в функцию print можно передать несколько аргументов, и все они будут выведены на экран одной строкой. Также функция print имеет несколько необязательных параметров, которые позволяют настроить ее поведение. Вот основные из них:\n",
    "\n",
    "* sep (разделитель): Определяет строку, которая будет вставлена между аргументами. По умолчанию используется пробел.   \n",
    "Пример:\n"
   ]
  },
  {
   "cell_type": "code",
   "execution_count": 29,
   "id": "c0127ded-e978-4eb2-9071-60a610d04523",
   "metadata": {},
   "outputs": [
    {
     "name": "stdout",
     "output_type": "stream",
     "text": [
      "one two three\n",
      "one---two---three\n"
     ]
    }
   ],
   "source": [
    "print(\"one\", \"two\", \"three\")                 # one two three\n",
    "print(\"one\", \"two\", \"three\", sep=\"---\")      # one---two---three\n"
   ]
  },
  {
   "cell_type": "markdown",
   "id": "fa5d9a4d-aa52-4aeb-a341-7df70bcc5565",
   "metadata": {},
   "source": [
    "* end (конец): Определяет строку, которая будет добавлена в конец вывода. По умолчанию используется символ новой строки \\n.   \n",
    "Пример:"
   ]
  },
  {
   "cell_type": "code",
   "execution_count": 30,
   "id": "d655b6b8-0d84-4dd9-a0fd-03d414a7b3b4",
   "metadata": {},
   "outputs": [
    {
     "name": "stdout",
     "output_type": "stream",
     "text": [
      "Привет, мир!!Привет\n"
     ]
    }
   ],
   "source": [
    "print(\"Привет,\", \"мир\", end=\"!!\")\n",
    "print(\"Привет\")\n",
    "# Привет, мир!!Привет"
   ]
  },
  {
   "cell_type": "code",
   "execution_count": 31,
   "id": "30df6f72-d6c4-4676-88c6-c574ed69b824",
   "metadata": {},
   "outputs": [],
   "source": [
    "#Задания для закрепления\n"
   ]
  },
  {
   "cell_type": "markdown",
   "id": "5514d36c-9616-494b-8ff2-073f779d22c0",
   "metadata": {},
   "source": [
    "# Практические задания\n",
    "1. Создайте программу, которая выведет строку: She said: \"It's amazing!\" двумя способами (одинаковый результат, но разный код).  \n",
    "Пример вывода:  \n",
    "She said: \"It's amazing!\"  \n",
    "She said: \"It's amazing!\"  \n"
   ]
  },
  {
   "cell_type": "code",
   "execution_count": null,
   "id": "38a7eb76-5484-4e04-a5cd-b9f3627fbfe8",
   "metadata": {},
   "outputs": [],
   "source": []
  },
  {
   "attachments": {
    "398f9633-dbeb-4d2b-b7ac-c742270d66a4.png": {
     "image/png": "[encoded data removed]"
    }
   },
   "cell_type": "markdown",
   "id": "d9f5e223-e4a3-4992-8a8a-1fdbc50e13e8",
   "metadata": {},
   "source": [
    "2. Напишите программу, которая трижды попросит пользователя ввести слово, а затем выведет все три введенных слова одной строкой, через многоточие.   Пример работы программы:\n",
    "   \n",
    "![image.png](attachment:398f9633-dbeb-4d2b-b7ac-c742270d66a4.png)"
   ]
  },
  {
   "cell_type": "code",
   "execution_count": null,
   "id": "7cdbeca2-e112-4b99-88a3-d677414214ae",
   "metadata": {},
   "outputs": [],
   "source": []
  }
 ],
 "metadata": {
  "kernelspec": {
   "display_name": "Python 3 (ipykernel)",
   "language": "python",
   "name": "python3"
  },
  "language_info": {
   "codemirror_mode": {
    "name": "ipython",
    "version": 3
   },
   "file_extension": ".py",
   "mimetype": "text/x-python",
   "name": "python",
   "nbconvert_exporter": "python",
   "pygments_lexer": "ipython3",
   "version": "3.13.5"
  }
 },
 "nbformat": 4,
 "nbformat_minor": 5
}
