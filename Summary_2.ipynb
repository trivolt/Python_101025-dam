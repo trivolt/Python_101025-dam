{
 "cells": [
  {
   "cell_type": "markdown",
   "id": "a8d08067-2f02-4646-b5a7-f6bb59f85d18",
   "metadata": {},
   "source": [
    "# Summary 2"
   ]
  },
  {
   "cell_type": "code",
   "execution_count": null,
   "id": "350f92de-6498-4406-a445-bb9d6d591c48",
   "metadata": {},
   "outputs": [],
   "source": []
  },
  {
   "cell_type": "code",
   "execution_count": null,
   "id": "2818406b-77af-400f-9c57-262f96b2fdfa",
   "metadata": {},
   "outputs": [],
   "source": []
  },
  {
   "cell_type": "markdown",
   "id": "aea89632-2c2e-4876-bbff-bee39822284c",
   "metadata": {},
   "source": [
    "### Правила приоритета (от высшего к низшему):\n",
    "1. Скобки ().\n",
    "\n",
    "2. Арифметика: ** → *, /, //, % → +, -.\n",
    "\n",
    "3. Сравнение: ==, !=, <, >, <=, >=.\n",
    "\n",
    "4. Логические операторы: not → and → or.\n",
    "\n",
    "Эти примеры можно проверить в Python, подставив их в print().\n",
    "\n",
    "Например:"
   ]
  },
  {
   "cell_type": "code",
   "execution_count": null,
   "id": "72116aaf-c5bd-45a1-9650-d0120567da0a",
   "metadata": {},
   "outputs": [],
   "source": [
    "result = 2 + 3 * 4 ** 2 // 5 - 1"
   ]
  },
  {
   "cell_type": "code",
   "execution_count": null,
   "id": "36ecd15d-16f8-4851-a0a4-b1585d39cbbf",
   "metadata": {},
   "outputs": [],
   "source": [
    "result = 5 + 3 < 10 and 2 * 4 == 8 or not 6 % 2 != 0"
   ]
  },
  {
   "cell_type": "code",
   "execution_count": null,
   "id": "e546ba6a-f0f5-4b45-9d86-35d5db527131",
   "metadata": {},
   "outputs": [],
   "source": [
    "result = (2 + 3) * (4 - 1) ** 2 > 50 and 10 % 3 == 1"
   ]
  },
  {
   "cell_type": "code",
   "execution_count": null,
   "id": "343d2bd5-a1d0-413c-8f1c-4f1bcdcb4922",
   "metadata": {},
   "outputs": [],
   "source": [
    "result = not (5 * 2 <= 10) or (7 % 3 == 1 and 4 ** 0.5 == 2)"
   ]
  },
  {
   "cell_type": "code",
   "execution_count": null,
   "id": "0b32e8df-e960-4eb3-a7fc-f1f306fcd70a",
   "metadata": {},
   "outputs": [],
   "source": [
    "result = 3 + 4 * 2 != 15 // 2 and (8 - 4) ** 2 >= 16"
   ]
  },
  {
   "cell_type": "markdown",
   "id": "28afdee4-3edc-4d04-b2e0-a3650eb24f85",
   "metadata": {},
   "source": [
    "# Арифметические операции"
   ]
  },
  {
   "cell_type": "markdown",
   "id": "bff67d7f-f229-4c38-9793-2961058d5868",
   "metadata": {},
   "source": [
    "### Задача 1: Анализ трехзначного числа\n",
    "\n",
    "Напишите программу, которая принимает от пользователя трехзначное целое число. Вычислите и выведите сумму цифр этого числа, произведение цифр и число в обратном порядке."
   ]
  },
  {
   "cell_type": "code",
   "execution_count": null,
   "id": "4ae9006f-28f8-4b2f-bcf5-dee752d83fd9",
   "metadata": {},
   "outputs": [],
   "source": []
  },
  {
   "cell_type": "markdown",
   "id": "85ec2254-c860-4aed-bc6d-34b1da817119",
   "metadata": {},
   "source": [
    "### Задача 2: Изменение координат точки\n",
    "\n",
    "Создайте две переменные `x` и `y` с начальными значениями координат точки. Используя операторы приращения, увеличьте `x` на 10, уменьшите `y` на 5, а затем увеличьте `x` на удвоенное текущее значение `y`. Выведите конечные значения `x` и `y`."
   ]
  },
  {
   "cell_type": "code",
   "execution_count": null,
   "id": "a5713969-d740-4a19-9a24-40d2e1145456",
   "metadata": {},
   "outputs": [],
   "source": []
  },
  {
   "cell_type": "markdown",
   "id": "6c1f5ecb-3790-4180-b5a2-1c6daa328932",
   "metadata": {},
   "source": [
    "### Задача 3: Распределение конфет\n",
    "\n",
    "Есть переменные `students` (количество студентов, целое число) и `candies` (количество конфет, целое число). Используя множественное присваивание, распределите конфеты поровну между студентами и найдите оставшееся количество конфет. Выведите, сколько конфет получит каждый студент и сколько останется."
   ]
  },
  {
   "cell_type": "code",
   "execution_count": null,
   "id": "d7d881a0-bb10-4172-b84b-e66cd3b84825",
   "metadata": {},
   "outputs": [],
   "source": []
  },
  {
   "cell_type": "markdown",
   "id": "faebc85d-9075-40f5-a256-30c4d027d1cf",
   "metadata": {},
   "source": [
    "### Задача 4: Конвертация валюты\n",
    "Напишите программу, которая принимает от пользователя сумму в рублях (строка) и текущий курс доллара (строка с плавающей точкой). Преобразуйте введенные значения в соответствующие числовые типы и вычислите сумму в долларах. Выведите результат."
   ]
  },
  {
   "cell_type": "code",
   "execution_count": null,
   "id": "4ebff2bb-6c37-4aad-91cf-bd443f687cb8",
   "metadata": {},
   "outputs": [],
   "source": []
  },
  {
   "cell_type": "markdown",
   "id": "ba7d3246-d9e2-4918-8bad-3786f8df15c9",
   "metadata": {},
   "source": [
    "# Логические операции и выражения"
   ]
  },
  {
   "cell_type": "markdown",
   "id": "605a2aba",
   "metadata": {
    "id": "605a2aba"
   },
   "source": [
    "### Задание 1\n",
    "Напишите программу, которая запрашивает у пользователя его возраст. Если возраст больше или равен 18, выведите `True`, иначе `False`."
   ]
  },
  {
   "cell_type": "code",
   "execution_count": null,
   "id": "613e484f",
   "metadata": {
    "id": "613e484f"
   },
   "outputs": [],
   "source": [
    "\n"
   ]
  },
  {
   "cell_type": "markdown",
   "id": "42914ab2",
   "metadata": {
    "id": "42914ab2"
   },
   "source": [
    "### Задание 2\n",
    "Напишите программу, которая просит пользователя ввести число и проверяет, является ли оно четным и положительным одновременно, используя логический оператор `and`."
   ]
  },
  {
   "cell_type": "code",
   "execution_count": null,
   "id": "b3d8916f",
   "metadata": {
    "id": "b3d8916f"
   },
   "outputs": [],
   "source": [
    "\n"
   ]
  },
  {
   "cell_type": "markdown",
   "id": "522619e3",
   "metadata": {
    "id": "522619e3"
   },
   "source": [
    "### Задание 3\n",
    "Напишите программу, которая запрашивает у пользователя два числа. Проверьте, является ли первое число больше 10 или второе число меньше 5, используя логический оператор `or`."
   ]
  },
  {
   "cell_type": "code",
   "execution_count": null,
   "id": "c5d13054",
   "metadata": {
    "id": "c5d13054"
   },
   "outputs": [],
   "source": [
    "\n"
   ]
  },
  {
   "cell_type": "markdown",
   "id": "8904885c",
   "metadata": {
    "id": "8904885c"
   },
   "source": [
    "### Задание 4\n",
    "Напишите программу, которая просит пользователя ввести строку. Проверьте, является ли строка пустой, используя оператор `not` и приведение типа к `bool`."
   ]
  },
  {
   "cell_type": "code",
   "execution_count": null,
   "id": "35928335",
   "metadata": {
    "id": "35928335"
   },
   "outputs": [],
   "source": [
    "\n"
   ]
  },
  {
   "cell_type": "markdown",
   "id": "24705aa5",
   "metadata": {
    "id": "24705aa5"
   },
   "source": [
    "### Задание 5\n",
    "Напишите программу, которая запрашивает у пользователя оценку (число от 1 до 10). Используя двойное неравенство, проверьте, находится ли оценка в диапазоне от 7 до 10 включительно."
   ]
  },
  {
   "cell_type": "code",
   "execution_count": null,
   "id": "f20cb626",
   "metadata": {
    "id": "f20cb626"
   },
   "outputs": [],
   "source": [
    "\n"
   ]
  }
 ],
 "metadata": {
  "colab": {
   "provenance": []
  },
  "kernelspec": {
   "display_name": "Python 3 (ipykernel)",
   "language": "python",
   "name": "python3"
  },
  "language_info": {
   "codemirror_mode": {
    "name": "ipython",
    "version": 3
   },
   "file_extension": ".py",
   "mimetype": "text/x-python",
   "name": "python",
   "nbconvert_exporter": "python",
   "pygments_lexer": "ipython3",
   "version": "3.13.5"
  }
 },
 "nbformat": 4,
 "nbformat_minor": 5
}
