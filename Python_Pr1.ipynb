{
 "cells": [
  {
   "cell_type": "markdown",
   "id": "04c7feab-6038-4b3a-a0bb-2a2c8c918f87",
   "metadata": {},
   "source": [
    "# Практика 1"
   ]
  },
  {
   "cell_type": "markdown",
   "id": "fdc7d5ef-ed1b-4b00-9e92-607c9dd8e8e7",
   "metadata": {},
   "source": [
    "* Лекция 1 - Основы работы с Python\n",
    "* Лекция 2 - Базовые типы данных\n",
    "* Лекция 3 - Математические операторы, выражения\n"
   ]
  },
  {
   "cell_type": "markdown",
   "id": "d3fd58a8-7661-4fa4-8dfd-8b65a777b812",
   "metadata": {},
   "source": [
    "1. Напишите программу, которая запрашивает у пользователя его имя, возраст и любимый цвет, а затем выводит краткую анкету в формате:\n",
    "\"Меня зовут [имя], мне [возраст] лет, и мой любимый цвет — [цвет].\"\n",
    "```\n",
    "Пример вывода:\n",
    "Введите имя: Анна  \n",
    "Введите возраст: 22  \n",
    "Введите любимый цвет: синий  \n",
    "Меня зовут Анна, мне 22 лет, и мой любимый цвет — синий.\n",
    "```"
   ]
  },
  {
   "cell_type": "code",
   "execution_count": 1,
   "id": "24392913-1a7a-4f15-8c3f-cd26e7c50ca7",
   "metadata": {},
   "outputs": [
    {
     "name": "stdin",
     "output_type": "stream",
     "text": [
      "Введите имя: Анна\n",
      "Введите возраст: 22\n",
      "Введите любимый цвет: синий\n"
     ]
    },
    {
     "name": "stdout",
     "output_type": "stream",
     "text": [
      "Меня зовут Анна, мне 22 лет, и мой любимый цвет — синий.\n"
     ]
    }
   ],
   "source": [
    "name = input('Введите имя:')\n",
    "age = input('Введите возраст:')\n",
    "color = input('Введите любимый цвет:')\n",
    "\n",
    "print('Меня зовут ' + name + ', мне '+ age +' лет, и мой любимый цвет — ' + color + '.')"
   ]
  },
  {
   "cell_type": "markdown",
   "id": "00bc8a3f-9828-4660-956a-3fe186096b88",
   "metadata": {},
   "source": [
    "2. Напишите программу, которая выводит на экран следующую строку несколькими способами:\n",
    "Она сказала: \"Привет!\"\n",
    "```\n",
    "Пример вывода:\n",
    "Она сказала: \"Привет!\"\n",
    "Она сказала: \"Привет!\"\n",
    "```"
   ]
  },
  {
   "cell_type": "code",
   "execution_count": 3,
   "id": "30aba9a6-3cf7-49b9-b6a2-70d15f78ec44",
   "metadata": {},
   "outputs": [
    {
     "name": "stdout",
     "output_type": "stream",
     "text": [
      "Она сказала: \"Привет!\"\n",
      "Она сказала: \"Привет!\"\n",
      "Она сказала: \"Привет!\"\n",
      "Она сказала: \"Привет!\"\n"
     ]
    }
   ],
   "source": [
    "print('Она сказала: \"Привет!\"')\n",
    "print(\"Она сказала: \\\"Привет!\\\"\")\n",
    "print('''Она сказала: \"Привет!\"''')\n",
    "print(\"\"\"Она сказала: \\\"Привет!\\\"\"\"\")"
   ]
  },
  {
   "cell_type": "markdown",
   "id": "c6991b2c-26a4-4c77-8e13-246e7ca2cb6c",
   "metadata": {},
   "source": [
    "3. Напишите программу, которая выводит следующий текст:  \n",
    "Пример вывода:\n",
    "```\n",
    "Список дел:\n",
    "\tУчеба\n",
    "\tУборка\n",
    "\tСпорт\n",
    "```"
   ]
  },
  {
   "cell_type": "code",
   "execution_count": 4,
   "id": "c641899d-825f-4622-8dfb-e20912193be2",
   "metadata": {},
   "outputs": [
    {
     "name": "stdout",
     "output_type": "stream",
     "text": [
      "Список дел:\n",
      "\tУчеба\n",
      "\tУборка\n",
      "\tСпорт\n"
     ]
    }
   ],
   "source": [
    "print('Список дел:\\n\\tУчеба\\n\\tУборка\\n\\tСпорт')"
   ]
  },
  {
   "cell_type": "code",
   "execution_count": 7,
   "id": "d7c2b95c-9f8c-4cfd-aa87-3182f02059eb",
   "metadata": {},
   "outputs": [
    {
     "name": "stdout",
     "output_type": "stream",
     "text": [
      "\n",
      "Список дел:\n",
      "    Учеба\n",
      "    Уборка\n",
      "    Спорт\n",
      "    \n"
     ]
    }
   ],
   "source": [
    "print('''\n",
    "Список дел:\n",
    "    Учеба\n",
    "    Уборка\n",
    "    Спорт\n",
    "    ''')"
   ]
  },
  {
   "cell_type": "code",
   "execution_count": 8,
   "id": "4b598516-5d3f-4eab-896f-f15fa6e7ef9c",
   "metadata": {},
   "outputs": [
    {
     "name": "stdout",
     "output_type": "stream",
     "text": [
      "\n",
      "Напишите программу, которая запрашивает расстояние (в километрах) и среднюю скорость автомобиля (в км/ч). Программа должна вывести время, которое потребуется, чтобы преодолеть указанное расстояние. Пример вывода:\n",
      "Введите расстояние (в км): 150  \n",
      "Введите среднюю скорость (в км/ч): 50  \n",
      "Время в пути: 3.0 часов\n",
      "\n"
     ]
    }
   ],
   "source": [
    "print(\n",
    "'''\n",
    "Напишите программу, которая запрашивает расстояние (в километрах) и среднюю скорость автомобиля (в км/ч). Программа должна вывести время, которое потребуется, чтобы преодолеть указанное расстояние. Пример вывода:\n",
    "Введите расстояние (в км): 150  \n",
    "Введите среднюю скорость (в км/ч): 50  \n",
    "Время в пути: 3.0 часов\n",
    "''')"
   ]
  },
  {
   "cell_type": "markdown",
   "id": "3e13e926-2e8f-4cc1-b299-49665c4807e3",
   "metadata": {},
   "source": [
    "4. Напишите программу, которая запрашивает расстояние (в километрах) и среднюю скорость автомобиля (в км/ч). Программа должна вывести время, которое потребуется, чтобы преодолеть указанное расстояние.\n",
    "Пример вывода:  \n",
    "```\n",
    "Введите расстояние (в км): 150  \n",
    "Введите среднюю скорость (в км/ч): 50  \n",
    "Время в пути: 3.0 часов\n",
    "```"
   ]
  },
  {
   "cell_type": "code",
   "execution_count": 10,
   "id": "4b1dea88-85a3-4c50-85c3-3b06ae6448d0",
   "metadata": {},
   "outputs": [
    {
     "name": "stdin",
     "output_type": "stream",
     "text": [
      "Введите расстояние (в км): 150\n",
      "Введите среднюю скорость (в км/ч): 50\n"
     ]
    },
    {
     "name": "stdout",
     "output_type": "stream",
     "text": [
      "Время в пути: 3.0 часов\n"
     ]
    }
   ],
   "source": [
    "S = int(input('Введите расстояние (в км):'))\n",
    "V = int(input('Введите среднюю скорость (в км/ч):'))\n",
    "\n",
    "t = S / V\n",
    "print('Время в пути:', t ,'часов')"
   ]
  },
  {
   "cell_type": "markdown",
   "id": "698e0f4d-4670-4ab7-9823-2a6826043bb4",
   "metadata": {},
   "source": [
    "4.1.* Доработайте программу, чтобы она выводила время, которое потребуется, чтобы преодолеть указанное расстояние в часах и минутах (без дробной части).  \n",
    "```\n",
    "Пример вывода:\n",
    "Введите расстояние (в км): 400  \n",
    "Введите среднюю скорость (в км/ч): 123  \n",
    "Время в пути: 3 часа и 15 минут\n",
    "```"
   ]
  },
  {
   "cell_type": "code",
   "execution_count": 14,
   "id": "04e7c3ce-e890-4f9b-b0d8-c57b3a457079",
   "metadata": {},
   "outputs": [
    {
     "name": "stdin",
     "output_type": "stream",
     "text": [
      "Введите расстояние (в км): 400\n",
      "Введите среднюю скорость (в км/ч): 123\n"
     ]
    },
    {
     "name": "stdout",
     "output_type": "stream",
     "text": [
      "Время в пути: 3 часа и 15 минут\n"
     ]
    }
   ],
   "source": [
    "S = int(input('Введите расстояние (в км):'))\n",
    "V = int(input('Введите среднюю скорость (в км/ч):'))\n",
    "\n",
    "t = S / V\n",
    "hour = S // V\n",
    "minute = (t - hour)*60\n",
    "print('Время в пути:', hour,  'часа и', round(minute), 'минут')"
   ]
  },
  {
   "cell_type": "code",
   "execution_count": 13,
   "id": "1c10cf6d-4407-4aae-98eb-f8ae37e6078a",
   "metadata": {},
   "outputs": [
    {
     "data": {
      "text/plain": [
       "3.14"
      ]
     },
     "execution_count": 13,
     "metadata": {},
     "output_type": "execute_result"
    }
   ],
   "source": [
    "round(3.141517926,2)"
   ]
  },
  {
   "cell_type": "markdown",
   "id": "c06b84eb-9e09-4e19-98aa-48c9e6ceb3e5",
   "metadata": {},
   "source": [
    "5. Напишите программу, которая принимает от пользователя количество дней до события и выводит, сколько это недель и дней.  \n",
    "Пример вывода:\n",
    "```    \n",
    "Введите количество дней до события: 45  \n",
    "До события осталось: 6 недель и 3 дня.\n",
    "```"
   ]
  },
  {
   "cell_type": "code",
   "execution_count": 18,
   "id": "d1fb9a33-d84d-4d98-bab5-ecc0fabb4f78",
   "metadata": {},
   "outputs": [
    {
     "name": "stdin",
     "output_type": "stream",
     "text": [
      "Введите количество дней до события: 45\n"
     ]
    },
    {
     "name": "stdout",
     "output_type": "stream",
     "text": [
      "До события осталось: 6 недель и 3 дня.\n"
     ]
    }
   ],
   "source": [
    "days = int(input('Введите количество дней до события:'))\n",
    "\n",
    "print('До события осталось:',days // 7 , 'недель и', days % 7 ,'дня.')"
   ]
  },
  {
   "cell_type": "markdown",
   "id": "0448575f-164e-4879-a40c-cb4f5c07fcf3",
   "metadata": {},
   "source": [
    "6. Напишите программу, которая принимает расстояние в километрах, расход бензина на 100 км и цену за литр бензина. Программа должна рассчитать стоимость бензина для поездки.  \n",
    "Пример вывода:  \n",
    "```\n",
    "Введите расстояние (в км): 300  \n",
    "Введите расход бензина на 100 км: 8  \n",
    "Введите цену за литр бензина: 60  \n",
    "Стоимость бензина для поездки: 1440.0\n",
    "```"
   ]
  },
  {
   "cell_type": "code",
   "execution_count": 20,
   "id": "cb1a10e2-0746-4003-ab16-4a0671aa2bef",
   "metadata": {},
   "outputs": [
    {
     "name": "stdin",
     "output_type": "stream",
     "text": [
      "Введите расстояние (в км): 300\n",
      "Введите расход бензина на 100 км: 8\n",
      "Введите цену за литр бензина: 60\n"
     ]
    },
    {
     "name": "stdout",
     "output_type": "stream",
     "text": [
      "Стоимость бензина для поездки: 1440.0\n"
     ]
    }
   ],
   "source": [
    "S = float(input('Введите расстояние (в км):'))\n",
    "f = float(input('Введите расход бензина на 100 км:'))\n",
    "p = float(input('Введите цену за литр бензина:'))\n",
    "\n",
    "print('Стоимость бензина для поездки:', S * p * f / 100)"
   ]
  },
  {
   "cell_type": "markdown",
   "id": "f539a0c5-86b2-410f-a17a-1c370db75787",
   "metadata": {},
   "source": [
    "7. Напишите программу, которая запрашивает у пользователя количество задач и среднее время выполнения одной задачи (в минутах). Программа должна вывести общее время выполнения всех задач в формате часов и минут.   \n",
    "Пример вывода:    \n",
    "```\n",
    "Введите количество задач: 5  \n",
    "Введите среднее время выполнения одной задачи (мин): 40  \n",
    "Общее время: 3 часа и 20 минут\n",
    "```"
   ]
  },
  {
   "cell_type": "code",
   "execution_count": 21,
   "id": "a678b57c-0661-42b7-b536-d228437b3d6c",
   "metadata": {},
   "outputs": [
    {
     "name": "stdin",
     "output_type": "stream",
     "text": [
      "Введите количество задач: 5\n",
      "Введите среднее время выполнения одной задачи (мин): 40\n"
     ]
    },
    {
     "name": "stdout",
     "output_type": "stream",
     "text": [
      "Общее время: 3 часа и 20 минут\n"
     ]
    }
   ],
   "source": [
    "count = int(input('Введите количество задач:'))\n",
    "minute = int(input('Введите среднее время выполнения одной задачи (мин):'))\n",
    "\n",
    "print('Общее время:',count * minute // 60,'часа и',count * minute % 60,'минут')"
   ]
  },
  {
   "cell_type": "markdown",
   "id": "c2349680-88d0-4d56-bb20-c3afbe54c81d",
   "metadata": {},
   "source": [
    "8. Напишите программу, которая считывает число \"n\" и вычисляет выражение \"n + nn + nnn\", где \"nn\" — это число \"n\", записанное дважды, а \"nnn\" — трижды.  \n",
    "Пример вывода:  \n",
    "```\n",
    "Введите число: 5\n",
    "Значение выражения: 615\n",
    "```"
   ]
  },
  {
   "cell_type": "code",
   "execution_count": 23,
   "id": "b444888d-f902-4929-83b2-37d796196608",
   "metadata": {},
   "outputs": [
    {
     "name": "stdin",
     "output_type": "stream",
     "text": [
      "Введите число: 12\n"
     ]
    },
    {
     "name": "stdout",
     "output_type": "stream",
     "text": [
      "Значение выражения: 122436\n"
     ]
    }
   ],
   "source": [
    "n = input('Введите число:')\n",
    "\n",
    "nn = n + n\n",
    "nnn = n + n + n\n",
    "result = int(n) + int(nn) + int(nnn)\n",
    "print('Значение выражения:', result)"
   ]
  },
  {
   "cell_type": "code",
   "execution_count": null,
   "id": "511279d0-af63-4c46-8d99-5f7810e7da52",
   "metadata": {},
   "outputs": [],
   "source": []
  },
  {
   "cell_type": "markdown",
   "id": "e5a93fa5-bfd8-4205-a073-2366a0e85546",
   "metadata": {},
   "source": [
    "9. Напишите программу, которая считывает четырёхзначное число и меняет местами первую и последнюю цифры.   \n",
    "Пример вывода:  \n",
    "```\n",
    "Введите четырёхзначное число: 1234\n",
    "Число после изменения: 4231\n",
    "```"
   ]
  },
  {
   "cell_type": "code",
   "execution_count": 24,
   "id": "f71b3085-bd3d-4a0d-b1fa-293c75323811",
   "metadata": {},
   "outputs": [
    {
     "name": "stdin",
     "output_type": "stream",
     "text": [
      "Введите четырехзначное число: 1234\n"
     ]
    },
    {
     "name": "stdout",
     "output_type": "stream",
     "text": [
      "Число после изменения:4231\n"
     ]
    }
   ],
   "source": [
    "number = int(input('Введите четырехзначное число:'))\n",
    "print ('Число после изменения:',number % 10,(number // 100) % 10,(number // 10) % 10,number // 1000, sep='')"
   ]
  },
  {
   "cell_type": "markdown",
   "id": "c5cd4c63-fa9b-4ba4-b1ed-46d93fc575b1",
   "metadata": {},
   "source": [
    "# Еще задачи)))\n",
    "шываоипшфв <br>\n",
    "**dsfgsfdhfg**"
   ]
  },
  {
   "cell_type": "code",
   "execution_count": 28,
   "id": "a39f3aa5-2d5d-4966-ad76-30bc0d4b957c",
   "metadata": {},
   "outputs": [
    {
     "name": "stdin",
     "output_type": "stream",
     "text": [
      "введите катет: 2\n",
      "введите катет: 3\n"
     ]
    },
    {
     "name": "stdout",
     "output_type": "stream",
     "text": [
      "Гипотенуза:  3.61\n"
     ]
    }
   ],
   "source": [
    "a = float(input('введите катет:'))\n",
    "b = float(input('введите катет:'))\n",
    "c = (a**2 + b**2)**0.5\n",
    "print('Гипотенуза: ', round(c,2))"
   ]
  },
  {
   "cell_type": "code",
   "execution_count": 32,
   "id": "9ff317bc-4c63-4d6b-a54b-268a068c2fab",
   "metadata": {},
   "outputs": [
    {
     "data": {
      "text/plain": [
       "True"
      ]
     },
     "execution_count": 32,
     "metadata": {},
     "output_type": "execute_result"
    }
   ],
   "source": [
    "not bool(12 % 2)"
   ]
  },
  {
   "cell_type": "code",
   "execution_count": 30,
   "id": "634f8e91-8ae8-4269-9f5e-2df5b839409e",
   "metadata": {},
   "outputs": [
    {
     "data": {
      "text/plain": [
       "1"
      ]
     },
     "execution_count": 30,
     "metadata": {},
     "output_type": "execute_result"
    }
   ],
   "source": [
    "13 % 2"
   ]
  },
  {
   "cell_type": "code",
   "execution_count": 37,
   "id": "877d09e5-4f1e-4c37-9ed2-192239af9694",
   "metadata": {},
   "outputs": [
    {
     "name": "stdin",
     "output_type": "stream",
     "text": [
      " 1234\n"
     ]
    },
    {
     "name": "stdout",
     "output_type": "stream",
     "text": [
      "4\n"
     ]
    }
   ],
   "source": [
    "a = int(input()) #1234\n",
    "d1 = a // 1000\n",
    "d2 = a // 100 % 10\n",
    "d3 = a // 10 % 10\n",
    "d4 = a % 10\n",
    "print((d1 % 2)*d1 + (d2 % 2)*d2 + (d3 % 2)*d3 +(d4 % 2)*d4)"
   ]
  },
  {
   "cell_type": "code",
   "execution_count": 34,
   "id": "6dea587a-37b6-4463-bd51-e6bbca904f3e",
   "metadata": {},
   "outputs": [
    {
     "data": {
      "text/plain": [
       "4"
      ]
     },
     "execution_count": 34,
     "metadata": {},
     "output_type": "execute_result"
    }
   ],
   "source": [
    "True * 4"
   ]
  },
  {
   "cell_type": "code",
   "execution_count": 35,
   "id": "371503eb-d07e-459f-9ae2-4348037b9ab4",
   "metadata": {},
   "outputs": [
    {
     "data": {
      "text/plain": [
       "0"
      ]
     },
     "execution_count": 35,
     "metadata": {},
     "output_type": "execute_result"
    }
   ],
   "source": [
    "False * 4"
   ]
  },
  {
   "cell_type": "code",
   "execution_count": null,
   "id": "c67715aa-8416-44cd-b698-27cbfa6184cd",
   "metadata": {},
   "outputs": [],
   "source": []
  }
 ],
 "metadata": {
  "kernelspec": {
   "display_name": "Python 3 (ipykernel)",
   "language": "python",
   "name": "python3"
  },
  "language_info": {
   "codemirror_mode": {
    "name": "ipython",
    "version": 3
   },
   "file_extension": ".py",
   "mimetype": "text/x-python",
   "name": "python",
   "nbconvert_exporter": "python",
   "pygments_lexer": "ipython3",
   "version": "3.13.5"
  }
 },
 "nbformat": 4,
 "nbformat_minor": 5
}
