{
 "cells": [
  {
   "cell_type": "markdown",
   "id": "a8d08067-2f02-4646-b5a7-f6bb59f85d18",
   "metadata": {},
   "source": [
    "# Summary 2"
   ]
  },
  {
   "cell_type": "code",
   "execution_count": 7,
   "id": "350f92de-6498-4406-a445-bb9d6d591c48",
   "metadata": {},
   "outputs": [
    {
     "name": "stdin",
     "output_type": "stream",
     "text": [
      "Введите первое число:  4\n",
      "Введите второе число:  5\n"
     ]
    },
    {
     "name": "stdout",
     "output_type": "stream",
     "text": [
      "Результат:\n",
      "20-4-5\n"
     ]
    }
   ],
   "source": [
    "num1 = int(input(\"Введите первое число: \"))\n",
    "num2 = int(input(\"Введите второе число: \"))\n",
    "\n",
    "print(\"Результат:\")\n",
    "print(num1 * num2, num1, num2, sep=\"-\")\n"
   ]
  },
  {
   "cell_type": "markdown",
   "id": "aea89632-2c2e-4876-bbff-bee39822284c",
   "metadata": {},
   "source": [
    "### Правила приоритета (от высшего к низшему):\n",
    "1. Скобки ().\n",
    "\n",
    "2. Арифметика: ** → *, /, //, % → +, -.\n",
    "\n",
    "3. Сравнение: ==, !=, <, >, <=, >=.\n",
    "\n",
    "4. Логические операторы: not → and → or.\n",
    "\n",
    "Эти примеры можно проверить в Python, подставив их в print().\n",
    "\n",
    "Например:"
   ]
  },
  {
   "cell_type": "code",
   "execution_count": 1,
   "id": "72116aaf-c5bd-45a1-9650-d0120567da0a",
   "metadata": {},
   "outputs": [],
   "source": [
    "result = 2 + 3 * 4 ** 2 // 5 - 1"
   ]
  },
  {
   "cell_type": "code",
   "execution_count": 2,
   "id": "682d5bc1-46b3-4d8e-b58a-361ad92a2e80",
   "metadata": {},
   "outputs": [
    {
     "data": {
      "text/plain": [
       "10"
      ]
     },
     "execution_count": 2,
     "metadata": {},
     "output_type": "execute_result"
    }
   ],
   "source": [
    "result"
   ]
  },
  {
   "cell_type": "code",
   "execution_count": 3,
   "id": "36ecd15d-16f8-4851-a0a4-b1585d39cbbf",
   "metadata": {},
   "outputs": [],
   "source": [
    "result = 5 + 3 < 10 and 2 * 4 == 8 or not 6 % 2 != 0"
   ]
  },
  {
   "cell_type": "code",
   "execution_count": null,
   "id": "0c05617e-ebfb-4436-97c9-2d5e2b35d5d8",
   "metadata": {},
   "outputs": [],
   "source": [
    "#result = 5 + 3 < 10 and 8 == 8 or not 6 % 2 != 0"
   ]
  },
  {
   "cell_type": "code",
   "execution_count": null,
   "id": "15bd83aa-035b-48b2-848d-6cda7469c28a",
   "metadata": {},
   "outputs": [],
   "source": [
    "#result = 5 + 3 < 10 and 8 == 8 or not 0 != 0"
   ]
  },
  {
   "cell_type": "code",
   "execution_count": null,
   "id": "6b913e6f-8a02-498e-8bb1-6600e3ae178d",
   "metadata": {},
   "outputs": [],
   "source": [
    "#result = 8 < 10 and 8 == 8 or not 0 != 0"
   ]
  },
  {
   "cell_type": "code",
   "execution_count": null,
   "id": "1c1eafb4-246e-4a36-a5ef-ff10cc9e8bf8",
   "metadata": {},
   "outputs": [],
   "source": [
    "#result = True and True or not False"
   ]
  },
  {
   "cell_type": "code",
   "execution_count": null,
   "id": "5713467c-eca3-42bd-b116-e1faff01eb2b",
   "metadata": {},
   "outputs": [],
   "source": [
    "#result = True and True or True"
   ]
  },
  {
   "cell_type": "code",
   "execution_count": null,
   "id": "ced3f252-014b-45b9-ab84-0326e7e9b319",
   "metadata": {},
   "outputs": [],
   "source": [
    "#result = True or True"
   ]
  },
  {
   "cell_type": "code",
   "execution_count": null,
   "id": "a6080128-6d77-4bad-8aed-676b51a6b341",
   "metadata": {},
   "outputs": [],
   "source": [
    "#result = True"
   ]
  },
  {
   "cell_type": "code",
   "execution_count": 4,
   "id": "daa6baaa-bfd0-4f73-915b-a70cc48ab154",
   "metadata": {},
   "outputs": [
    {
     "data": {
      "text/plain": [
       "True"
      ]
     },
     "execution_count": 4,
     "metadata": {},
     "output_type": "execute_result"
    }
   ],
   "source": [
    "result"
   ]
  },
  {
   "cell_type": "code",
   "execution_count": 5,
   "id": "e546ba6a-f0f5-4b45-9d86-35d5db527131",
   "metadata": {},
   "outputs": [],
   "source": [
    "result = (2 + 3) * (4 - 1) ** 2 > 50 and 10 % 3 == 1"
   ]
  },
  {
   "cell_type": "code",
   "execution_count": 6,
   "id": "eb252426-abc1-465e-8ff8-b9ca6cfe5ea1",
   "metadata": {},
   "outputs": [
    {
     "data": {
      "text/plain": [
       "False"
      ]
     },
     "execution_count": 6,
     "metadata": {},
     "output_type": "execute_result"
    }
   ],
   "source": [
    "result"
   ]
  },
  {
   "cell_type": "code",
   "execution_count": null,
   "id": "343d2bd5-a1d0-413c-8f1c-4f1bcdcb4922",
   "metadata": {},
   "outputs": [],
   "source": [
    "result = not (5 * 2 <= 10) or (7 % 3 == 1 and 4 ** 0.5 == 2)"
   ]
  },
  {
   "cell_type": "code",
   "execution_count": null,
   "id": "7d289e33-b8ff-4cb7-9dc2-fd72add2d093",
   "metadata": {},
   "outputs": [],
   "source": []
  },
  {
   "cell_type": "code",
   "execution_count": null,
   "id": "0b32e8df-e960-4eb3-a7fc-f1f306fcd70a",
   "metadata": {},
   "outputs": [],
   "source": [
    "result = 3 + 4 * 2 != 15 // 2 and (8 - 4) ** 2 >= 16"
   ]
  },
  {
   "cell_type": "code",
   "execution_count": null,
   "id": "37726f95-ec17-44af-9178-8ac7a464f06f",
   "metadata": {},
   "outputs": [],
   "source": []
  },
  {
   "cell_type": "markdown",
   "id": "28afdee4-3edc-4d04-b2e0-a3650eb24f85",
   "metadata": {},
   "source": [
    "# Арифметические операции"
   ]
  },
  {
   "cell_type": "markdown",
   "id": "bff67d7f-f229-4c38-9793-2961058d5868",
   "metadata": {},
   "source": [
    "### Задача 1: Анализ трехзначного числа\n",
    "\n",
    "Напишите программу, которая принимает от пользователя трехзначное целое число. Вычислите и выведите сумму цифр этого числа, произведение цифр и число в обратном порядке."
   ]
  },
  {
   "cell_type": "code",
   "execution_count": null,
   "id": "4ae9006f-28f8-4b2f-bcf5-dee752d83fd9",
   "metadata": {},
   "outputs": [],
   "source": []
  },
  {
   "cell_type": "markdown",
   "id": "85ec2254-c860-4aed-bc6d-34b1da817119",
   "metadata": {},
   "source": [
    "### Задача 2: Изменение координат точки\n",
    "\n",
    "Создайте две переменные `x` и `y` с начальными значениями координат точки. Используя операторы приращения, увеличьте `x` на 10, уменьшите `y` на 5, а затем увеличьте `x` на удвоенное текущее значение `y`. Выведите конечные значения `x` и `y`."
   ]
  },
  {
   "cell_type": "code",
   "execution_count": null,
   "id": "a5713969-d740-4a19-9a24-40d2e1145456",
   "metadata": {},
   "outputs": [],
   "source": []
  },
  {
   "cell_type": "markdown",
   "id": "6c1f5ecb-3790-4180-b5a2-1c6daa328932",
   "metadata": {},
   "source": [
    "### Задача 3: Распределение конфет\n",
    "\n",
    "Есть переменные `students` (количество студентов, целое число) и `candies` (количество конфет, целое число). Используя множественное присваивание, распределите конфеты поровну между студентами и найдите оставшееся количество конфет. Выведите, сколько конфет получит каждый студент и сколько останется."
   ]
  },
  {
   "cell_type": "code",
   "execution_count": null,
   "id": "d7d881a0-bb10-4172-b84b-e66cd3b84825",
   "metadata": {},
   "outputs": [],
   "source": []
  },
  {
   "cell_type": "markdown",
   "id": "faebc85d-9075-40f5-a256-30c4d027d1cf",
   "metadata": {},
   "source": [
    "### Задача 4: Конвертация валюты\n",
    "Напишите программу, которая принимает от пользователя сумму в рублях (строка) и текущий курс доллара (строка с плавающей точкой). Преобразуйте введенные значения в соответствующие числовые типы и вычислите сумму в долларах. Выведите результат."
   ]
  },
  {
   "cell_type": "code",
   "execution_count": null,
   "id": "4ebff2bb-6c37-4aad-91cf-bd443f687cb8",
   "metadata": {},
   "outputs": [],
   "source": []
  },
  {
   "cell_type": "markdown",
   "id": "ba7d3246-d9e2-4918-8bad-3786f8df15c9",
   "metadata": {},
   "source": [
    "# Логические операции и выражения"
   ]
  },
  {
   "cell_type": "markdown",
   "id": "605a2aba",
   "metadata": {
    "id": "605a2aba"
   },
   "source": [
    "### Задание 1\n",
    "Напишите программу, которая запрашивает у пользователя его возраст. Если возраст больше или равен 18, выведите `True`, иначе `False`."
   ]
  },
  {
   "cell_type": "code",
   "execution_count": 10,
   "id": "613e484f",
   "metadata": {
    "id": "613e484f"
   },
   "outputs": [
    {
     "name": "stdin",
     "output_type": "stream",
     "text": [
      " 18\n"
     ]
    },
    {
     "name": "stdout",
     "output_type": "stream",
     "text": [
      "True\n"
     ]
    }
   ],
   "source": [
    "age = int(input())\n",
    "print(age>=18)\n"
   ]
  },
  {
   "cell_type": "markdown",
   "id": "42914ab2",
   "metadata": {
    "id": "42914ab2"
   },
   "source": [
    "### Задание 2\n",
    "Напишите программу, которая просит пользователя ввести число и проверяет, является ли оно четным и положительным одновременно, используя логический оператор `and`."
   ]
  },
  {
   "cell_type": "code",
   "execution_count": 13,
   "id": "b3d8916f",
   "metadata": {
    "id": "b3d8916f"
   },
   "outputs": [
    {
     "name": "stdin",
     "output_type": "stream",
     "text": [
      " 12\n"
     ]
    },
    {
     "name": "stdout",
     "output_type": "stream",
     "text": [
      "True\n"
     ]
    }
   ],
   "source": [
    "num = int(input())\n",
    "print(num%2==0 and num>0)\n"
   ]
  },
  {
   "cell_type": "markdown",
   "id": "522619e3",
   "metadata": {
    "id": "522619e3"
   },
   "source": [
    "### Задание 3\n",
    "Напишите программу, которая запрашивает у пользователя два числа. Проверьте, является ли первое число больше 10 или второе число меньше 5, используя логический оператор `or`."
   ]
  },
  {
   "cell_type": "code",
   "execution_count": 16,
   "id": "c5d13054",
   "metadata": {
    "id": "c5d13054"
   },
   "outputs": [
    {
     "name": "stdin",
     "output_type": "stream",
     "text": [
      " 12\n",
      " 6\n"
     ]
    },
    {
     "name": "stdout",
     "output_type": "stream",
     "text": [
      "True\n"
     ]
    }
   ],
   "source": [
    "num1 = int(input())\n",
    "num2 = int(input())\n",
    "\n",
    "print(num1 > 10 or num2 < 5)\n"
   ]
  },
  {
   "cell_type": "markdown",
   "id": "8904885c",
   "metadata": {
    "id": "8904885c"
   },
   "source": [
    "### Задание 4\n",
    "Напишите программу, которая просит пользователя ввести строку. Проверьте, является ли строка пустой, используя оператор `not` и приведение типа к `bool`."
   ]
  },
  {
   "cell_type": "code",
   "execution_count": 17,
   "id": "35928335",
   "metadata": {
    "id": "35928335"
   },
   "outputs": [
    {
     "data": {
      "text/plain": [
       "11"
      ]
     },
     "execution_count": 17,
     "metadata": {},
     "output_type": "execute_result"
    }
   ],
   "source": [
    "len('hello world')"
   ]
  },
  {
   "cell_type": "code",
   "execution_count": 19,
   "id": "781c7a81-651d-4622-9b19-ce801f4540f8",
   "metadata": {},
   "outputs": [
    {
     "name": "stdin",
     "output_type": "stream",
     "text": [
      "ввести строку: hello\n"
     ]
    },
    {
     "name": "stdout",
     "output_type": "stream",
     "text": [
      "строка пустая: False\n"
     ]
    }
   ],
   "source": [
    "print(\"строка пустая:\", not bool(input(\"ввести строку:\")))"
   ]
  },
  {
   "cell_type": "markdown",
   "id": "24705aa5",
   "metadata": {
    "id": "24705aa5"
   },
   "source": [
    "### Задание 5\n",
    "Напишите программу, которая запрашивает у пользователя оценку (число от 1 до 10). Используя двойное неравенство, проверьте, находится ли оценка в диапазоне от 7 до 10 включительно."
   ]
  },
  {
   "cell_type": "code",
   "execution_count": 21,
   "id": "f20cb626",
   "metadata": {
    "id": "f20cb626"
   },
   "outputs": [
    {
     "name": "stdin",
     "output_type": "stream",
     "text": [
      " 9\n"
     ]
    },
    {
     "name": "stdout",
     "output_type": "stream",
     "text": [
      "True\n"
     ]
    }
   ],
   "source": [
    "ball = int(input())\n",
    "\n",
    "print(7 <= ball <= 10)\n"
   ]
  },
  {
   "cell_type": "code",
   "execution_count": 22,
   "id": "b083d4a8-c747-4ef5-918a-192897c9b79b",
   "metadata": {},
   "outputs": [
    {
     "name": "stdin",
     "output_type": "stream",
     "text": [
      " 9\n"
     ]
    },
    {
     "name": "stdout",
     "output_type": "stream",
     "text": [
      "True\n"
     ]
    }
   ],
   "source": [
    "ball = int(input())\n",
    "\n",
    "print(7 <= ball and ball <= 10)"
   ]
  },
  {
   "cell_type": "code",
   "execution_count": null,
   "id": "91982a66-5f1f-40ed-aa33-21759291e83a",
   "metadata": {},
   "outputs": [],
   "source": []
  }
 ],
 "metadata": {
  "colab": {
   "provenance": []
  },
  "kernelspec": {
   "display_name": "Python 3 (ipykernel)",
   "language": "python",
   "name": "python3"
  },
  "language_info": {
   "codemirror_mode": {
    "name": "ipython",
    "version": 3
   },
   "file_extension": ".py",
   "mimetype": "text/x-python",
   "name": "python",
   "nbconvert_exporter": "python",
   "pygments_lexer": "ipython3",
   "version": "3.13.5"
  }
 },
 "nbformat": 4,
 "nbformat_minor": 5
}
