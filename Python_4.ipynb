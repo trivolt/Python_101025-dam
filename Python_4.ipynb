{
 "cells": [
  {
   "cell_type": "markdown",
   "id": "66f3b1f4-a725-4fad-94dc-70b09d12f4cd",
   "metadata": {},
   "source": [
    "# Логический тип данных и сравнения\n"
   ]
  },
  {
   "cell_type": "markdown",
   "id": "ecf2a7f7-51e4-42c9-9971-72c0d6c80f6d",
   "metadata": {},
   "source": [
    "### Логический тип данных"
   ]
  },
  {
   "cell_type": "markdown",
   "id": "63e12d46-0745-49fc-af05-a64cf36edc4d",
   "metadata": {},
   "source": [
    "Логический тип данных (bool, от англ. boolean) используется для представления двух возможных значений: True (истина) и False (ложь).  \n",
    "Эти значения помогают программе принимать решения. Например, в зависимости от того, истинное значение или ложное, программа может выполнить разные действия.  \n",
    "Логические значения могут быть созданы напрямую или быть результатом логических операций, сравнений или приведения типов к bool.\n"
   ]
  },
  {
   "cell_type": "code",
   "execution_count": 1,
   "id": "21aee7fd-fabb-49ce-b45b-fff60a178217",
   "metadata": {},
   "outputs": [],
   "source": [
    "#Создание напрямую:\n",
    "isFinished = True\n",
    "hasAccess = False\n"
   ]
  },
  {
   "cell_type": "markdown",
   "id": "c673ffa2-097a-4200-a9ef-e27fd055507e",
   "metadata": {},
   "source": [
    "### Приведение типов к bool\n",
    "В Python существуют значения, которые интерпретируются как True или False при преобразовании в логический тип:\n",
    "* True: Любое ненулевое число, непустая строка, список, кортеж и т.д.\n",
    "* False: None, 0, пустые последовательности (например, [], {}, \"\").\n",
    "   \n",
    "Существует два способа преобразования значений в логический тип данных bool: автоматическое и явное (вручную).\n",
    "1. **Автоматическое преобразование:**  \n",
    "Python автоматически преобразует значения в True или False, когда это необходимо, например, в условиях if, циклах и логических операциях. При этом Python определяет, является ли значение \"истинным\" или \"ложным\", исходя из его типа.\n",
    "2. **Явное (ручное) преобразование:**  \n",
    "Для явного преобразования значений в логический тип данных можно использовать функцию bool.\n"
   ]
  },
  {
   "cell_type": "code",
   "execution_count": 2,
   "id": "298961ef-2407-4bb0-a28b-bccc57556cb8",
   "metadata": {},
   "outputs": [
    {
     "name": "stdout",
     "output_type": "stream",
     "text": [
      "True\n",
      "False\n",
      "False\n",
      "False\n",
      "True\n"
     ]
    }
   ],
   "source": [
    "print(bool(5))          # True (ненулевое число)\n",
    "print(bool(0))          # False\n",
    "print(bool(None))       # False\n",
    "print(bool([]))         # False (пустой список)\n",
    "print(bool(\"Hello\"))    # True (непустая строка)"
   ]
  },
  {
   "cell_type": "code",
   "execution_count": 3,
   "id": "3e8cc0de-6b20-48ba-94e5-718b072184a8",
   "metadata": {},
   "outputs": [],
   "source": [
    "# Задания для закрепления\n"
   ]
  },
  {
   "cell_type": "markdown",
   "id": "ec84c87e-e681-40d3-857f-914b5c5f1da6",
   "metadata": {},
   "source": [
    "## Операторы сравнения\n",
    "Операторы сравнения в Python используются для сравнения двух значений. Результатом операции всегда является логическое значение — True или False. Эти операторы применяются для проверки равенства, неравенства, а также для сравнения величин (больше, меньше и т.д.).\n"
   ]
  },
  {
   "cell_type": "markdown",
   "id": "2edc3e88-cd4b-40bb-9877-4f8b3dae6949",
   "metadata": {},
   "source": [
    "### Основные операторы сравнения:\n"
   ]
  },
  {
   "attachments": {
    "73ce5aa4-2ef1-4ed0-801d-c32f14a4b8d0.png": {
     "image/png": "[encoded data removed]"
    }
   },
   "cell_type": "markdown",
   "id": "5e0ff9ab-15d9-4f74-b51c-95861fdb84c9",
   "metadata": {},
   "source": [
    "![image.png](attachment:73ce5aa4-2ef1-4ed0-801d-c32f14a4b8d0.png)"
   ]
  },
  {
   "cell_type": "markdown",
   "id": "4160e126-e989-4792-b51e-7619c234bf8a",
   "metadata": {},
   "source": [
    "### Примеры использования операторов сравнения с числами\n",
    "1. **Оператор == (равно):** Сравнивает два числа на равенство.  \n",
    "Пример:  \n"
   ]
  },
  {
   "cell_type": "code",
   "execution_count": null,
   "id": "dba43b76-b566-4aff-a47b-7f637d883298",
   "metadata": {},
   "outputs": [],
   "source": [
    "a = 10\n",
    "b = 10\n",
    "print(a == b)  # True, так как a равно b\n"
   ]
  },
  {
   "cell_type": "markdown",
   "id": "175ba5ba-83f9-4109-aa3f-e830fa5b8964",
   "metadata": {},
   "source": [
    "2. **Оператор != (не равно):** Проверяет, не равны ли два числа.  \n",
    "Пример:\n"
   ]
  },
  {
   "cell_type": "code",
   "execution_count": 4,
   "id": "f09ca5ef-16f0-423c-9b5e-4c0472b41b2b",
   "metadata": {},
   "outputs": [
    {
     "name": "stdout",
     "output_type": "stream",
     "text": [
      "True\n"
     ]
    }
   ],
   "source": [
    "a = 10\n",
    "b = 5\n",
    "print(a != b)  # True, так как a не равно b"
   ]
  },
  {
   "cell_type": "markdown",
   "id": "3af66bd2-ca12-4151-a104-987bdf31996f",
   "metadata": {},
   "source": [
    "3. **Оператор > (больше):** Проверяет, больше ли одно число другого.  \n",
    "Пример:"
   ]
  },
  {
   "cell_type": "code",
   "execution_count": 5,
   "id": "1dd2b036-2cf1-4dda-9c56-96705f175bb7",
   "metadata": {},
   "outputs": [
    {
     "name": "stdout",
     "output_type": "stream",
     "text": [
      "False\n"
     ]
    }
   ],
   "source": [
    "a = 8\n",
    "b = 10\n",
    "print(a > b)  # False, так как a меньше b"
   ]
  },
  {
   "cell_type": "markdown",
   "id": "fc6adc30-b99d-400c-acb7-861e1ac5edd6",
   "metadata": {},
   "source": [
    "4. **Оператор < (меньше):** Проверяет, меньше ли одно число другого.  \n",
    "Пример:"
   ]
  },
  {
   "cell_type": "code",
   "execution_count": 6,
   "id": "10924684-f988-441d-a8bd-bb3f47c848d8",
   "metadata": {},
   "outputs": [
    {
     "name": "stdout",
     "output_type": "stream",
     "text": [
      "True\n"
     ]
    }
   ],
   "source": [
    "a = 5\n",
    "b = 7\n",
    "print(a < b)  # True, так как a меньше b"
   ]
  },
  {
   "cell_type": "markdown",
   "id": "97e00b1c-6b23-4569-906f-1895642b691d",
   "metadata": {},
   "source": [
    "5. **Оператор >= (больше или равно):** Проверяет, больше или равно ли одно число другому.  \n",
    "Пример:"
   ]
  },
  {
   "cell_type": "code",
   "execution_count": 7,
   "id": "6176d9e6-290b-48a5-b62f-149ff0cac6cd",
   "metadata": {},
   "outputs": [
    {
     "name": "stdout",
     "output_type": "stream",
     "text": [
      "True\n"
     ]
    }
   ],
   "source": [
    "a = 5\n",
    "b = 5\n",
    "print(a >= b)  # True, так как a равно b"
   ]
  },
  {
   "cell_type": "markdown",
   "id": "46f5dcee-254c-4400-b9be-b0a68b2f590c",
   "metadata": {},
   "source": [
    "6. **Оператор <= (меньше или равно):** Проверяет, меньше или равно ли одно число другому.  \n",
    "Пример:"
   ]
  },
  {
   "cell_type": "code",
   "execution_count": 8,
   "id": "c57b8458-96fc-4bf0-99b2-1f4b64f952d0",
   "metadata": {},
   "outputs": [
    {
     "name": "stdout",
     "output_type": "stream",
     "text": [
      "True\n"
     ]
    }
   ],
   "source": [
    "a = 3\n",
    "b = 4\n",
    "print(a <= b)  # True, так как a меньше b"
   ]
  },
  {
   "cell_type": "code",
   "execution_count": null,
   "id": "deaed307-2c6f-4d29-afdf-5800a93c7758",
   "metadata": {},
   "outputs": [],
   "source": [
    "#Задания для закрепления"
   ]
  },
  {
   "cell_type": "markdown",
   "id": "e7a667fe-89b9-46e6-a2fb-ac7d1d7d101d",
   "metadata": {},
   "source": [
    "## Логические операторы\n",
    "Логические операторы используются для выполнения логических операций над значениями или выражениями. Они возвращают True или False в зависимости от условия и позволяют комбинировать несколько условий в одном выражении.\n"
   ]
  },
  {
   "cell_type": "markdown",
   "id": "5bdb4507-9c80-4203-adbc-ac46dc13b0fe",
   "metadata": {},
   "source": [
    "<table border=\"1\">\n",
    "  <tr>\n",
    "    <th>Оператор</th>\n",
    "    <th>Описание</th>\n",
    "    <th>Пример</th>\n",
    "    <th>Результат</th>\n",
    "  </tr>\n",
    "  <tr>\n",
    "    <td>and</td>\n",
    "    <td>Логическое \"И\": возвращает True, если оба условия истинны</td>\n",
    "    <td>True and False</td>\n",
    "    <td>False</td>\n",
    "  </tr>\n",
    "  <tr>\n",
    "    <td>or</td>\n",
    "    <td>Логическое \"ИЛИ\": возвращает True, если хотя бы одно условие истинно</td>\n",
    "    <td>True or False</td>\n",
    "    <td>True</td>\n",
    "  </tr>\n",
    "  <tr>\n",
    "    <td>not</td>\n",
    "    <td>Логическое \"НЕ\": возвращает противоположное значение</td>\n",
    "    <td>not True</td>\n",
    "    <td>False</td>\n",
    "  </tr>\n",
    "</table>"
   ]
  },
  {
   "cell_type": "markdown",
   "id": "2efe46b4-53df-4c38-b40e-a59dd7267a08",
   "metadata": {},
   "source": [
    "### Оператор and (логическое \"И\")\n",
    "Оператор `and` возвращает `True`, если оба условия истинны. Если хотя бы одно из условий ложно, результатом будет `False`.\n"
   ]
  },
  {
   "cell_type": "code",
   "execution_count": 9,
   "id": "b20fe4c9-21b1-4ce7-a8f5-c6b44af9da04",
   "metadata": {},
   "outputs": [
    {
     "name": "stdout",
     "output_type": "stream",
     "text": [
      "True\n"
     ]
    }
   ],
   "source": [
    "a = 5\n",
    "b = 10\n",
    "\n",
    "\n",
    "# Проверяем что оба числа положительные\n",
    "print(a > 0 and b > 0)     # True, так как оба условия истинны"
   ]
  },
  {
   "cell_type": "markdown",
   "id": "44e5d6bd-9cb1-41dd-99bc-8c44b16cdcbc",
   "metadata": {},
   "source": [
    "#### Пример из жизни для логического оператора and\n",
    "Представьте, что вы хотите пойти на прогулку, но только если солнечно и у вас есть свободное время. Оба условия должны быть истинными, чтобы вы пошли гулять.  \n",
    "Возможные ситуации:  \n",
    "* Солнечно True и свободное время True → Идёте гулять - True.\n",
    "* Солнечно False и свободное время True → Не идёте гулять - False.\n",
    "* Солнечно True и свободное время False → Не идёте гулять - False.\n",
    "* Солнечно False и свободное время False → Не идёте гулять - False.\n",
    "\n",
    "Это как сказать: \"Я пойду гулять, если одновременно и погода хорошая, и у меня есть свободное время.\"\n"
   ]
  },
  {
   "cell_type": "markdown",
   "id": "ecf44e3a-13ea-479e-8ad8-f6e692b1f4bd",
   "metadata": {},
   "source": [
    "### Оператор or (логическое \"ИЛИ\")\n",
    "Оператор `or` возвращает `True`, если хотя бы одно из условий истинно. Если оба условия ложны, результатом будет `False`.\n"
   ]
  },
  {
   "cell_type": "code",
   "execution_count": 10,
   "id": "5faf3b2a-80cd-4457-8b29-b27406986c74",
   "metadata": {},
   "outputs": [
    {
     "name": "stdout",
     "output_type": "stream",
     "text": [
      "True\n"
     ]
    }
   ],
   "source": [
    "\n",
    "\n",
    "a = -5\n",
    "b = 10\n",
    "# Проверяем что хотя бы одно из чисел положительное\n",
    "print(a > 0 or b > 0)     # True, так как b > 0 истинно\n"
   ]
  },
  {
   "cell_type": "markdown",
   "id": "849a3fe2-4fa0-4143-8cfd-7438db1c9e20",
   "metadata": {},
   "source": [
    "#### Пример из жизни для логического оператора or  \n",
    "Теперь представьте, что вы хотите заказать пиццу, но вы сделаете заказ, если у вас либо голод, либо желание пиццы. В этом случае, достаточно, чтобы хотя бы одно из условий было истинным.  \n",
    "Возможные ситуации:\n",
    "* Голод True и желание пиццы True → Закажете пиццу - True.\n",
    "* Голод False и желание пиццы True → Всё равно закажете пиццу, потому что хотите пиццу - True.\n",
    "* Голод True и желание пиццы False → Закажете, потому что голодны - True.\n",
    "* Голод False и желание пиццы False → Не закажете пиццу, так как оба условия ложны - False.\n",
    "\n",
    "Это как сказать: \"Я закажу пиццу, если либо я голоден, либо у меня есть настроение её съесть.\"\n"
   ]
  },
  {
   "cell_type": "markdown",
   "id": "a956c9e3-970d-490a-8e1d-1bb4dffcdbc1",
   "metadata": {},
   "source": [
    "### Оператор not (логическое \"НЕ\")\n",
    "Оператор `not` возвращает противоположное значение. Если выражение истинно, `not` превращает его в ложное, и наоборот.\n"
   ]
  },
  {
   "cell_type": "code",
   "execution_count": 11,
   "id": "c074de61-f940-4090-aad2-f8d230bbcfee",
   "metadata": {},
   "outputs": [
    {
     "name": "stdout",
     "output_type": "stream",
     "text": [
      "True\n"
     ]
    }
   ],
   "source": [
    "a = False\n",
    "print(not a)  # True, так как это обратное значение от False \n"
   ]
  },
  {
   "cell_type": "markdown",
   "id": "cc3d338c-2e22-485f-b899-f65bf540feda",
   "metadata": {},
   "source": [
    "#### Пример из жизни для логического оператора not\n",
    "Представьте, что вы на работе и планируете уйти домой. Вы пойдёте домой только в том случае, если у вас нет задач. Здесь оператор not работает как отрицание: если задач нет, то вы идёте домой.  \n",
    "Пример в жизни:\n",
    "* Если у вас нет задач: not → \"Иду домой\" - True.\n",
    "* Если задачи есть: not превращает это в - False, т.е. \"Остаюсь на работе\".\n",
    "\n",
    "Это как сказать: \"Я иду домой, если у меня нет задач\", что является логическим отрицанием выполнения работы.\n"
   ]
  },
  {
   "cell_type": "code",
   "execution_count": 12,
   "id": "8bd4c101-e25a-4e92-ac34-e353647e917b",
   "metadata": {},
   "outputs": [],
   "source": [
    "#Задания для закрепления"
   ]
  },
  {
   "cell_type": "markdown",
   "id": "7ce4f8c3-9518-47ae-ac4a-75e2e62c0958",
   "metadata": {},
   "source": [
    "### Комбинирование логических операторов\n",
    "Вы можете комбинировать несколько логических операторов в одном выражении для создания более сложных условий.\n"
   ]
  },
  {
   "cell_type": "code",
   "execution_count": 13,
   "id": "c0e32d77-8637-47f7-95ed-42dea30da875",
   "metadata": {},
   "outputs": [
    {
     "name": "stdout",
     "output_type": "stream",
     "text": [
      "True\n"
     ]
    }
   ],
   "source": [
    "a = 5\n",
    "b = 10\n",
    "print(a > 0 and b > 0 or a == 5)"
   ]
  },
  {
   "cell_type": "markdown",
   "id": "cdd7c90c-9727-4c9b-bad3-9108827d8ff8",
   "metadata": {},
   "source": [
    "В этом примере результат будет True, потому что оба числа больше 0 (условие с and истинно), и также a == 5 (условие с or истинно)."
   ]
  },
  {
   "cell_type": "markdown",
   "id": "06f92c24-c120-46b6-be2b-e9f164f280a5",
   "metadata": {},
   "source": [
    "## Приоритет логических операторов\n",
    "В Python логические операторы имеют определённый порядок выполнения (приоритет). Это значит, что некоторые операторы выполняются раньше других, если они встречаются в одном выражении.\n"
   ]
  },
  {
   "cell_type": "markdown",
   "id": "1f37662c-2949-4aa4-9bad-6862b13786dd",
   "metadata": {},
   "source": [
    "### Порядок приоритета логических операторов\n",
    "`not` (логическое \"НЕ\") — выполняется первым.  \n",
    "`and` (логическое \"И\") — выполняется вторым.  \n",
    "`or` (логическое \"ИЛИ\") — выполняется последним.  \n"
   ]
  },
  {
   "cell_type": "code",
   "execution_count": 14,
   "id": "7ce4539a-b5ac-4cb2-ae7a-13056ccea11f",
   "metadata": {},
   "outputs": [
    {
     "name": "stdout",
     "output_type": "stream",
     "text": [
      "True\n"
     ]
    }
   ],
   "source": [
    "a = True\n",
    "b = True\n",
    "c = True\n",
    "\n",
    "\n",
    "print(not a or b and c)\n"
   ]
  },
  {
   "cell_type": "markdown",
   "id": "2f7931cb-076e-4769-9ff0-71be5c2a7382",
   "metadata": {},
   "source": [
    "В этом выражении сначала выполнится оператор not, затем and, и последним — or:\n",
    "1. not a or b and c # Подставим значения переменных\n",
    "2. not True or True and True # not True -> False\n",
    "3. False or True and True # True and True -> True\n",
    "4. False or True # False or True -> True\n",
    "5. True\n"
   ]
  },
  {
   "cell_type": "markdown",
   "id": "c989bb14-f6ff-47ed-bc12-cd0f072d5132",
   "metadata": {},
   "source": [
    "### Скобки для изменения приоритета\n",
    "Если вы хотите изменить порядок выполнения логических операторов, можно использовать скобки, чтобы явно указать, какие операции должны быть выполнены в первую очередь, так как скобки имеют наивысший приоритет.\n"
   ]
  },
  {
   "cell_type": "code",
   "execution_count": 15,
   "id": "6b69e4cb-f297-4c4c-a584-a1adc6591ca6",
   "metadata": {},
   "outputs": [],
   "source": [
    "result = not (a or b) and c"
   ]
  },
  {
   "cell_type": "markdown",
   "id": "67622dd0-ae9b-47ee-ac57-9b63e0bca18c",
   "metadata": {},
   "source": [
    "Теперь оператор or выполняется первым (из-за скобок), затем not, и в последнюю очередь — and:\n",
    "1. not (a or b) and c # Подставим значения переменных\n",
    "2. not (True or True) and True # True or True -> True\n",
    "3. not True and True # not True -> False\n",
    "4. False and True # False and True -> False\n",
    "5. False\n"
   ]
  },
  {
   "cell_type": "markdown",
   "id": "e0d02ab8-1483-4746-aa02-2a81097562c2",
   "metadata": {},
   "source": [
    "### Приоритет математических операций и операторов сравнения\n",
    "Когда в Python выполняются математические операции вместе с операторами сравнения, важно понимать, как Python решает, что выполнять в первую очередь. Математические операции имеют более высокий приоритет, чем операторы сравнения. Это значит, что сначала Python выполнит все вычисления, а затем сравнит результат."
   ]
  },
  {
   "cell_type": "code",
   "execution_count": 16,
   "id": "010da6b8-22d6-416d-8710-d1eb7ef1bf23",
   "metadata": {},
   "outputs": [
    {
     "name": "stdout",
     "output_type": "stream",
     "text": [
      "True\n"
     ]
    }
   ],
   "source": [
    "result = 3 + 2 > 4  # Сначала выполняется сложение (3 + 2), затем результат сравнивается с 4\n",
    "print(result)       # True, так как 5 > 4"
   ]
  },
  {
   "cell_type": "markdown",
   "id": "81d760e2-370d-49df-b164-42f4265402e1",
   "metadata": {},
   "source": [
    "#### Пример из жизни для нескольких условий\n",
    "**Пример 1:** Использование and и or  \n",
    "Предположим, вы хотите узнать, можно ли пойти гулять. Условия: (у вас есть свободное время или день выходной), и погода хорошая."
   ]
  },
  {
   "cell_type": "code",
   "execution_count": 17,
   "id": "5c523cd0-44d2-42a0-9885-8fe39ac42a74",
   "metadata": {},
   "outputs": [
    {
     "name": "stdout",
     "output_type": "stream",
     "text": [
      "True\n"
     ]
    }
   ],
   "source": [
    "good_weather = True\n",
    "is_weekend = False\n",
    "free_time = True\n",
    "\n",
    "\n",
    "can_go_out = (free_time or is_weekend) and good_weather\n",
    "print(can_go_out)  # Результат: True"
   ]
  },
  {
   "cell_type": "markdown",
   "id": "e2c1c268-6250-48a3-9ab5-ae18815b94ab",
   "metadata": {},
   "source": [
    "**Пример 2:** Использование not с другими операторами  \n",
    "Допустим, вы планируете поехать в отпуск, если у вас нет работы и достаточно денег.\n"
   ]
  },
  {
   "cell_type": "code",
   "execution_count": 18,
   "id": "32772ef3-6987-447e-8815-a02474ec0452",
   "metadata": {},
   "outputs": [
    {
     "name": "stdout",
     "output_type": "stream",
     "text": [
      "False\n"
     ]
    }
   ],
   "source": [
    "have_work = True\n",
    "enough_money = True\n",
    "\n",
    "\n",
    "can_go_vacation = not have_work and enough_money\n",
    "print(can_go_vacation)  # Результат: False"
   ]
  },
  {
   "cell_type": "markdown",
   "id": "9d670330-3644-4d22-b4ae-8ec7ca222b16",
   "metadata": {},
   "source": [
    "##### Пояснение:\n",
    "* not have_work → превращает True в False (у вас есть работа, значит, вы не можете поехать).  \n",
    "* and enough_money → проверяет, достаточно ли денег (результат: False, так как денег недостаточно).  \n",
    "Окончательный результат: False, вы не можете поехать в отпуск."
   ]
  },
  {
   "cell_type": "markdown",
   "id": "40e366ea-d3da-4157-9ba4-ac237ff974b3",
   "metadata": {},
   "source": [
    "### Таблица истинности\n",
    "Таблица истинности показывает результат работы логических операторов для всех возможных комбинаций значений True и False.\n"
   ]
  },
  {
   "cell_type": "markdown",
   "id": "76cff0bb-39ea-4935-803f-83f870b6ec8e",
   "metadata": {},
   "source": [
    "#### Таблица истинности логических операторов в Python\n"
   ]
  },
  {
   "cell_type": "markdown",
   "id": "02f088a4-c776-4918-9d11-de020c84322f",
   "metadata": {},
   "source": [
    "<table border=\"1\">\n",
    "  <tr>\n",
    "    <th>A</th>\n",
    "    <th>B</th>\n",
    "    <th>A and B</th>\n",
    "    <th>A or B</th>\n",
    "    <th>not A</th>\n",
    "  </tr>\n",
    "  <tr>\n",
    "    <td>True</td>\n",
    "    <td>True</td>\n",
    "    <td>True</td>\n",
    "    <td>True</td>\n",
    "    <td>False</td>\n",
    "  </tr>\n",
    "  <tr>\n",
    "    <td>True</td>\n",
    "    <td>False</td>\n",
    "    <td>False</td>\n",
    "    <td>True</td>\n",
    "    <td>False</td>\n",
    "  </tr>\n",
    "  <tr>\n",
    "    <td>False</td>\n",
    "    <td>True</td>\n",
    "    <td>False</td>\n",
    "    <td>True</td>\n",
    "    <td>True</td>\n",
    "  </tr>\n",
    "  <tr>\n",
    "    <td>False</td>\n",
    "    <td>False</td>\n",
    "    <td>False</td>\n",
    "    <td>False</td>\n",
    "    <td>True</td>\n",
    "  </tr>\n",
    "</table>"
   ]
  },
  {
   "cell_type": "markdown",
   "id": "6d7eb51a-8ab8-4dcc-b114-cf2c72f827ba",
   "metadata": {},
   "source": [
    "### Двойные неравенства\n",
    "В Python можно использовать двойные неравенства, что позволяет проверять, попадает ли число в определённый диапазон значений. Это делает код более читабельным и удобным, поскольку не требует явного использования логических операторов and.\n"
   ]
  },
  {
   "cell_type": "markdown",
   "id": "ce5b4c04-c5e7-474d-849c-48f640b092ef",
   "metadata": {},
   "source": [
    "### Синтаксис двойных неравенств:\n",
    "\n",
    "\n",
    "`min_value < variable < max_value`\n",
    "\n",
    "\n",
    "Этот синтаксис позволяет проверить, находится ли переменная между двумя значениями.\n"
   ]
  },
  {
   "cell_type": "code",
   "execution_count": 19,
   "id": "36631dfd-002c-4643-8433-c47c6f3a5a6c",
   "metadata": {},
   "outputs": [
    {
     "name": "stdout",
     "output_type": "stream",
     "text": [
      "True\n"
     ]
    }
   ],
   "source": [
    "x = 5\n",
    "print(1 < x <= 10) # x находится между 1 и 10 (включительно)"
   ]
  },
  {
   "cell_type": "markdown",
   "id": "388ee8e4-029d-4621-8bab-c134396c7de3",
   "metadata": {},
   "source": [
    "В этом примере Python проверяет сразу два условия:  \n",
    "1 < x — проверка, что x больше 1.  \n",
    "x <= 10 — проверка, что x меньше или равно 10."
   ]
  },
  {
   "cell_type": "markdown",
   "id": "5aa5cbef-4cc9-4a84-90de-58a0ed55c46b",
   "metadata": {},
   "source": [
    "### Эквивалент без двойного неравенства:\n",
    "Использование двойных неравенств эквивалентно следующему коду с логическим оператором and:\n"
   ]
  },
  {
   "cell_type": "code",
   "execution_count": 20,
   "id": "d921127f-dec8-4a8e-9eab-81a57339554b",
   "metadata": {},
   "outputs": [
    {
     "name": "stdout",
     "output_type": "stream",
     "text": [
      "True\n"
     ]
    }
   ],
   "source": [
    "x = 5\n",
    "print(1 < x and x <= 10) # x находится между 1 и 10 (включительно)"
   ]
  },
  {
   "cell_type": "markdown",
   "id": "e60230ae-9fd9-43a6-bb80-623b145bc966",
   "metadata": {},
   "source": [
    "Оба подхода работают одинаково, но двойное неравенство делает код более кратким и читаемым.\n"
   ]
  },
  {
   "cell_type": "code",
   "execution_count": 21,
   "id": "61ac8119-7a16-4e11-9163-c0c8318a22aa",
   "metadata": {},
   "outputs": [],
   "source": [
    "#Задания для закрепления\n"
   ]
  },
  {
   "cell_type": "markdown",
   "id": "f3b7ac54-3220-4dd6-83e0-0e6a21ff0261",
   "metadata": {},
   "source": [
    "### Практические задания\n",
    "1. Напишите программу, которая получит два числа от пользователя и выведет, попадает ли первое число в диапазон от 1 до второго числа включительно с помощью операторов сравнения.  \n",
    "Пример вывода:  \n",
    "Введите первое число: 3  \n",
    "Введите второе число: 5  \n",
    "True"
   ]
  },
  {
   "cell_type": "code",
   "execution_count": null,
   "id": "eb84b5ff-b57a-4db5-9e1b-5362804460d2",
   "metadata": {},
   "outputs": [],
   "source": []
  },
  {
   "cell_type": "markdown",
   "id": "d3c0dcce-5010-43d8-b685-8b6d982268bb",
   "metadata": {},
   "source": [
    "2. Напишите программу, которая получит от пользователя три числа и выведет результат сравнения первого числа с остальными двумя, используя операторы >, < и ==.  \n",
    "Пример вывода:  \n",
    "Введите первое число: 7  \n",
    "Введите второе число: 5  \n",
    "Введите третье число: 7   \n",
    "Первое больше второго: True  \n",
    "Первое меньше третьего: False  \n",
    "Первое равно третьему: True\n"
   ]
  },
  {
   "cell_type": "code",
   "execution_count": null,
   "id": "dc983d45-23f0-4b40-9b17-4c39c4e4589d",
   "metadata": {},
   "outputs": [],
   "source": []
  },
  {
   "cell_type": "code",
   "execution_count": null,
   "id": "f8ce40fd-1bcd-41ba-92bc-b242d196231f",
   "metadata": {},
   "outputs": [],
   "source": []
  }
 ],
 "metadata": {
  "kernelspec": {
   "display_name": "Python 3 (ipykernel)",
   "language": "python",
   "name": "python3"
  },
  "language_info": {
   "codemirror_mode": {
    "name": "ipython",
    "version": 3
   },
   "file_extension": ".py",
   "mimetype": "text/x-python",
   "name": "python",
   "nbconvert_exporter": "python",
   "pygments_lexer": "ipython3",
   "version": "3.13.5"
  }
 },
 "nbformat": 4,
 "nbformat_minor": 5
}
